{
 "cells": [
  {
   "cell_type": "code",
   "execution_count": 1,
   "metadata": {},
   "outputs": [],
   "source": [
    "# my notebook"
   ]
  },
  {
   "cell_type": "code",
   "execution_count": 2,
   "metadata": {},
   "outputs": [],
   "source": [
    "import numpy as np\n",
    "from bs4 import BeautifulSoup\n",
    "import requests\n",
    "import pandas as pd\n",
    "from requests import get\n",
    "from prepare import prep_gitMDs\n",
    "import nltk\n",
    "from wordcloud import WordCloud\n",
    "\n",
    "from prepare import basic_body_clean\n",
    "from prepare import tokenize\n",
    "from prepare import remove_stopwords\n",
    "from prepare import lemmatize\n",
    "from prepare import basic_code_clean\n",
    "\n",
    "from sklearn.feature_extraction.text import CountVectorizer\n",
    "from sklearn.feature_extraction.text import TfidfVectorizer\n",
    "\n",
    "import warnings\n",
    "warnings.filterwarnings(\"ignore\")\n",
    "\n",
    "import matplotlib.pyplot as plt\n",
    "import seaborn as sns\n",
    "\n",
    "from sklearn.linear_model import LogisticRegression\n",
    "from sklearn.metrics import classification_report"
   ]
  },
  {
   "cell_type": "code",
   "execution_count": 3,
   "metadata": {},
   "outputs": [],
   "source": [
    "# setting up environment\n",
    "import re\n",
    "import unicodedata\n",
    "import pandas as pd\n",
    "import nltk\n",
    "import matplotlib.pyplot as plt\n",
    "import seaborn as sns\n",
    "\n",
    "from wordcloud import WordCloud\n",
    "\n",
    "import warnings\n",
    "warnings.filterwarnings(\"ignore\")\n",
    "\n",
    "from requests import get\n",
    "from bs4 import BeautifulSoup\n",
    "import os"
   ]
  },
  {
   "cell_type": "markdown",
   "metadata": {},
   "source": [
    "# ACQUIRE"
   ]
  },
  {
   "cell_type": "code",
   "execution_count": 4,
   "metadata": {},
   "outputs": [],
   "source": [
    "url = ['https://github.com/pewresearch/pewanalytics', 'https://github.com/texastribune/scuole', 'https://github.com/texastribune/thermometer', 'https://github.com/texastribune/walls', 'https://github.com/texastribune/geoip2', 'https://github.com/texastribune/queso-tools', 'https://github.com/texastribune/django-locking', 'https://github.com/texastribune/data-visuals-create', 'https://github.com/texastribune/tacobots', 'https://github.com/newscorp-ghfb/validates_timeliness','https://github.com/newscorp-ghfb/rbenv-cookbook','https://github.com/newscorp-ghfb/geogle']\n",
    "\n",
    "url2 = ['https://github.com/pewresearch/pewtils', 'https://github.com/pewresearch/search_sampler', 'https://github.com/gawkermedia/kinja-post-gem', 'https://github.com/bloomberg/chef-bcpc', 'https://github.com/bloomberg/locking_resource-cookbook', 'https://github.com/bloomberg/collectd-cookbook', 'https://github.com/bloomberg/nginx-cookbook', 'https://github.com/bloomberg/consul-cluster-cookbook', 'https://github.com/bloomberg/cobbler-cookbook', 'https://github.com/bloomberg/openbfdd-cookbook', 'https://github.com/newscorp-ghfb/kaminari']\n",
    "\n",
    "url3 = ['https://github.com/bloomberg/chef-bcs', 'https://github.com/bloomberg/zookeeper-cookbook', 'https://github.com/bloomberg/confd-cookbook', 'https://github.com/bloomberg/collectd_plugins-cookbook', 'https://github.com/bloomberg/kubernetes-cluster-cookbook', 'https://github.com/techcrunch/ey-cloud-recipes', 'https://github.com/techcrunch/json_printer', 'https://github.com/observermedia/realgraph-listener', 'https://github.com/observermedia/django-wordpress-rest', 'https://github.com/thenextweb/passgenerator']\n",
    "\n",
    "url4 = ['https://github.com/thenextweb/amp-wp', 'https://github.com/thenextweb/laravel-elasticsearch', 'https://github.com/thenextweb/slack-laravel', 'https://github.com/thenextweb/craft-3-adminbar', 'https://github.com/thenextweb/Embed', 'https://github.com/thenextweb/oembed', 'https://github.com/thenextweb/flatten', 'https://github.com/texastribune/top10pct', 'https://github.com/texastribune/newsapps-app-kit']\n",
    "\n",
    "url5 = ['https://github.com/thenextweb/cro', 'https://github.com/thenextweb/jQuery-Search', 'https://github.com/texastribune/tx_salaries', 'https://github.com/texastribune/the-dp', 'https://github.com/texastribune/tx_lege_districts', 'https://github.com/texastribune/tt_social_auth', 'https://github.com/texastribune/armstrong.core.tt_sections', 'https://github.com/texastribune/aeis', 'https://github.com/texastribune/ox-scale', 'https://github.com/texastribune/django-gistpage', 'https://github.com/newscorp-ghfb/sidekiq-throttler']\n",
    "\n",
    "url6 = ['https://github.com/theatlantic/django-nested-admin', 'https://github.com/theatlantic/django-xml', 'https://github.com/theatlantic/django-select2-forms', 'https://github.com/theatlantic/django-admin-locking', 'https://github.com/texastribune/lethal-drug-tracker', 'https://github.com/texastribune/txlege-camera-status', 'https://github.com/texastribune/postcss-amp', 'https://github.com/texastribune/talk', 'https://github.com/texastribune/code-grabber', 'https://github.com/texastribune/react-external-boilerplate']\n",
    "\n",
    "url7 = ['https://github.com/voxmedia/vc-ikea-minisite', 'https://github.com/voxmedia/viz-app', 'https://github.com/voxmedia/prebid.github.io', 'https://github.com/voxmedia/Transcriber', 'https://github.com/voxmedia/userstamp', 'https://github.com/voxmedia/gliss', 'https://github.com/nbcnews/octopus-vr', 'https://github.com/texastribune/donations-app', 'https://github.com/texastribune/djangocms-text-ckeditor', 'https://github.com/texastribune/newsapps-styleguide-2.0', 'https://github.com/texastribune/500', 'https://github.com/WSJ/pinpoint-editor', 'https://github.com/WSJ/ballot-tally']\n",
    "\n",
    "url8 = ['https://github.com/texastribune/txlege84', 'https://github.com/texastribune/donation-builder', 'https://github.com/abcnews/scrollyteller', 'https://github.com/abcnews/odyssey-scrollyteller', 'https://github.com/abcnews/data-life', 'https://github.com/abcnews/interactive-ssm-map', 'https://github.com/ajam/chartbuilder-electron', 'https://github.com/WSJ/scroll-watcher', 'https://github.com/WSJ/two-step', 'https://github.com/texastribune/faces-of-death-row', 'https://github.com/texastribune/text-balancer', 'https://github.com/WSJ/squaire']\n",
    "\n",
    "url9 = ['https://github.com/WSJ/the-meta-tag-checker', 'https://github.com/npr/nprapi-wordpress', 'https://github.com/npr/npr-one-backend-proxy-php', 'https://github.com/npr/pmp-wordpress-plugin', 'https://github.com/npr/pmp-php-sdk', 'https://github.com/npr/pmp-drupal-plugin', 'https://github.com/npr/zaphpa', 'https://github.com/npr/silverstripe-opauth', 'https://github.com/npr/Slim']\n",
    "\n"
   ]
  },
  {
   "cell_type": "code",
   "execution_count": 5,
   "metadata": {},
   "outputs": [
    {
     "data": {
      "text/plain": [
       "97"
      ]
     },
     "execution_count": 5,
     "metadata": {},
     "output_type": "execute_result"
    }
   ],
   "source": [
    "urlcount = len(url)+len(url2)+len(url3)+len(url4)+len(url5)+len(url6)+len(url7)+len(url8)+len(url9)\n",
    "\n",
    "urlcount"
   ]
  },
  {
   "cell_type": "code",
   "execution_count": 6,
   "metadata": {},
   "outputs": [],
   "source": [
    "urls = (url)+(url2)+(url3)+(url4)+(url5)+(url6)+(url7)+(url8)+(url9)"
   ]
  },
  {
   "cell_type": "markdown",
   "metadata": {},
   "source": [
    "# PREP"
   ]
  },
  {
   "cell_type": "code",
   "execution_count": 7,
   "metadata": {},
   "outputs": [],
   "source": [
    "gitMDs = pd.read_json('pages.json')"
   ]
  },
  {
   "cell_type": "code",
   "execution_count": 8,
   "metadata": {},
   "outputs": [],
   "source": [
    "gitMDs['readme'] = gitMDs['body'].apply(basic_body_clean).apply(tokenize).apply(remove_stopwords).apply(lemmatize)\n",
    "gitMDs['language'] = gitMDs['top_code'].apply(basic_code_clean).apply(tokenize).apply(remove_stopwords)\n",
    "gitMDs[['language', 'percentage']] = gitMDs['language'].str.split(\" \",expand=True)\n",
    "gitMDs['percentage'] = pd.to_numeric(gitMDs['percentage'])\n",
    "\n",
    "gitMDs.drop(columns = ['body', 'top_code'], inplace = True)"
   ]
  },
  {
   "cell_type": "code",
   "execution_count": 9,
   "metadata": {
    "scrolled": false
   },
   "outputs": [
    {
     "data": {
      "text/html": [
       "<div>\n",
       "<style scoped>\n",
       "    .dataframe tbody tr th:only-of-type {\n",
       "        vertical-align: middle;\n",
       "    }\n",
       "\n",
       "    .dataframe tbody tr th {\n",
       "        vertical-align: top;\n",
       "    }\n",
       "\n",
       "    .dataframe thead th {\n",
       "        text-align: right;\n",
       "    }\n",
       "</style>\n",
       "<table border=\"1\" class=\"dataframe\">\n",
       "  <thead>\n",
       "    <tr style=\"text-align: right;\">\n",
       "      <th></th>\n",
       "      <th>readme</th>\n",
       "      <th>language</th>\n",
       "      <th>percentage</th>\n",
       "    </tr>\n",
       "  </thead>\n",
       "  <tbody>\n",
       "    <tr>\n",
       "      <th>0</th>\n",
       "      <td>pewanalytics pewanalytics python package provi...</td>\n",
       "      <td>python</td>\n",
       "      <td>99.5</td>\n",
       "    </tr>\n",
       "    <tr>\n",
       "      <th>1</th>\n",
       "      <td>scuole ' italian school public school 3 setup ...</td>\n",
       "      <td>python</td>\n",
       "      <td>72.3</td>\n",
       "    </tr>\n",
       "    <tr>\n",
       "      <th>2</th>\n",
       "      <td>thermometer</td>\n",
       "      <td>python</td>\n",
       "      <td>89.2</td>\n",
       "    </tr>\n",
       "    <tr>\n",
       "      <th>3</th>\n",
       "      <td>wall query salesforce opportunity information ...</td>\n",
       "      <td>python</td>\n",
       "      <td>98.6</td>\n",
       "    </tr>\n",
       "    <tr>\n",
       "      <th>4</th>\n",
       "      <td>geoip2 super simple nodejsbased deployment get...</td>\n",
       "      <td>javascript</td>\n",
       "      <td>93.2</td>\n",
       "    </tr>\n",
       "    <tr>\n",
       "      <th>...</th>\n",
       "      <td>...</td>\n",
       "      <td>...</td>\n",
       "      <td>...</td>\n",
       "    </tr>\n",
       "    <tr>\n",
       "      <th>95</th>\n",
       "      <td>pmp php sdk php api client public medium platf...</td>\n",
       "      <td>php</td>\n",
       "      <td>99.7</td>\n",
       "    </tr>\n",
       "    <tr>\n",
       "      <th>96</th>\n",
       "      <td>installing pmpapi module download module would...</td>\n",
       "      <td>php</td>\n",
       "      <td>100.0</td>\n",
       "    </tr>\n",
       "    <tr>\n",
       "      <th>97</th>\n",
       "      <td>zaphpa installing zaphpa composer add zaphpaza...</td>\n",
       "      <td>php</td>\n",
       "      <td>100.0</td>\n",
       "    </tr>\n",
       "    <tr>\n",
       "      <th>98</th>\n",
       "      <td>module depends opauth no longer maintained ' r...</td>\n",
       "      <td>php</td>\n",
       "      <td>100.0</td>\n",
       "    </tr>\n",
       "    <tr>\n",
       "      <th>99</th>\n",
       "      <td>slim framework slim php microframework help qu...</td>\n",
       "      <td>php</td>\n",
       "      <td>99.9</td>\n",
       "    </tr>\n",
       "  </tbody>\n",
       "</table>\n",
       "<p>100 rows × 3 columns</p>\n",
       "</div>"
      ],
      "text/plain": [
       "                                               readme    language  percentage\n",
       "0   pewanalytics pewanalytics python package provi...      python        99.5\n",
       "1   scuole ' italian school public school 3 setup ...      python        72.3\n",
       "2                                         thermometer      python        89.2\n",
       "3   wall query salesforce opportunity information ...      python        98.6\n",
       "4   geoip2 super simple nodejsbased deployment get...  javascript        93.2\n",
       "..                                                ...         ...         ...\n",
       "95  pmp php sdk php api client public medium platf...         php        99.7\n",
       "96  installing pmpapi module download module would...         php       100.0\n",
       "97  zaphpa installing zaphpa composer add zaphpaza...         php       100.0\n",
       "98  module depends opauth no longer maintained ' r...         php       100.0\n",
       "99  slim framework slim php microframework help qu...         php        99.9\n",
       "\n",
       "[100 rows x 3 columns]"
      ]
     },
     "execution_count": 9,
     "metadata": {},
     "output_type": "execute_result"
    }
   ],
   "source": [
    "gitMDs"
   ]
  },
  {
   "cell_type": "code",
   "execution_count": 10,
   "metadata": {},
   "outputs": [],
   "source": [
    "from sklearn.model_selection import train_test_split\n",
    "\n",
    "train_validate, test = train_test_split(gitMDs[['language', 'readme']], \n",
    "                                        stratify=gitMDs.language, \n",
    "                                        test_size=.2)\n",
    "\n",
    "train, validate = train_test_split(train_validate, \n",
    "                                   stratify=train_validate.language, \n",
    "                                   test_size=.25)"
   ]
  },
  {
   "cell_type": "code",
   "execution_count": 11,
   "metadata": {
    "scrolled": true
   },
   "outputs": [
    {
     "data": {
      "text/html": [
       "<div>\n",
       "<style scoped>\n",
       "    .dataframe tbody tr th:only-of-type {\n",
       "        vertical-align: middle;\n",
       "    }\n",
       "\n",
       "    .dataframe tbody tr th {\n",
       "        vertical-align: top;\n",
       "    }\n",
       "\n",
       "    .dataframe thead th {\n",
       "        text-align: right;\n",
       "    }\n",
       "</style>\n",
       "<table border=\"1\" class=\"dataframe\">\n",
       "  <thead>\n",
       "    <tr style=\"text-align: right;\">\n",
       "      <th></th>\n",
       "      <th>language</th>\n",
       "      <th>readme</th>\n",
       "    </tr>\n",
       "  </thead>\n",
       "  <tbody>\n",
       "    <tr>\n",
       "      <th>71</th>\n",
       "      <td>html</td>\n",
       "      <td>glis glis constraint based layout system artic...</td>\n",
       "    </tr>\n",
       "    <tr>\n",
       "      <th>67</th>\n",
       "      <td>html</td>\n",
       "      <td>vizier gui ai2html project vizier make easy us...</td>\n",
       "    </tr>\n",
       "    <tr>\n",
       "      <th>17</th>\n",
       "      <td>ruby</td>\n",
       "      <td>collectdcookbook application cookbook installs...</td>\n",
       "    </tr>\n",
       "    <tr>\n",
       "      <th>97</th>\n",
       "      <td>php</td>\n",
       "      <td>zaphpa installing zaphpa composer add zaphpaza...</td>\n",
       "    </tr>\n",
       "    <tr>\n",
       "      <th>49</th>\n",
       "      <td>python</td>\n",
       "      <td>texas legislative district reusable django app...</td>\n",
       "    </tr>\n",
       "  </tbody>\n",
       "</table>\n",
       "</div>"
      ],
      "text/plain": [
       "   language                                             readme\n",
       "71     html  glis glis constraint based layout system artic...\n",
       "67     html  vizier gui ai2html project vizier make easy us...\n",
       "17     ruby  collectdcookbook application cookbook installs...\n",
       "97      php  zaphpa installing zaphpa composer add zaphpaza...\n",
       "49   python  texas legislative district reusable django app..."
      ]
     },
     "execution_count": 11,
     "metadata": {},
     "output_type": "execute_result"
    }
   ],
   "source": [
    "train.head()"
   ]
  },
  {
   "cell_type": "code",
   "execution_count": 12,
   "metadata": {},
   "outputs": [
    {
     "data": {
      "text/html": [
       "<div>\n",
       "<style scoped>\n",
       "    .dataframe tbody tr th:only-of-type {\n",
       "        vertical-align: middle;\n",
       "    }\n",
       "\n",
       "    .dataframe tbody tr th {\n",
       "        vertical-align: top;\n",
       "    }\n",
       "\n",
       "    .dataframe thead th {\n",
       "        text-align: right;\n",
       "    }\n",
       "</style>\n",
       "<table border=\"1\" class=\"dataframe\">\n",
       "  <thead>\n",
       "    <tr style=\"text-align: right;\">\n",
       "      <th></th>\n",
       "      <th>language</th>\n",
       "      <th>readme</th>\n",
       "    </tr>\n",
       "  </thead>\n",
       "  <tbody>\n",
       "    <tr>\n",
       "      <th>12</th>\n",
       "      <td>python</td>\n",
       "      <td>pewtils pewtils package useful programming uti...</td>\n",
       "    </tr>\n",
       "    <tr>\n",
       "      <th>55</th>\n",
       "      <td>ruby</td>\n",
       "      <td>sidekiqthrottler sidekiqthrottler middleware s...</td>\n",
       "    </tr>\n",
       "    <tr>\n",
       "      <th>23</th>\n",
       "      <td>ruby</td>\n",
       "      <td>chefbcs description installs configures ceph d...</td>\n",
       "    </tr>\n",
       "    <tr>\n",
       "      <th>78</th>\n",
       "      <td>javascript</td>\n",
       "      <td>ballottally lightweight nodejs wrapper u ap el...</td>\n",
       "    </tr>\n",
       "    <tr>\n",
       "      <th>24</th>\n",
       "      <td>ruby</td>\n",
       "      <td>zookeeperclustercookbook application cookbook ...</td>\n",
       "    </tr>\n",
       "  </tbody>\n",
       "</table>\n",
       "</div>"
      ],
      "text/plain": [
       "      language                                             readme\n",
       "12      python  pewtils pewtils package useful programming uti...\n",
       "55        ruby  sidekiqthrottler sidekiqthrottler middleware s...\n",
       "23        ruby  chefbcs description installs configures ceph d...\n",
       "78  javascript  ballottally lightweight nodejs wrapper u ap el...\n",
       "24        ruby  zookeeperclustercookbook application cookbook ..."
      ]
     },
     "execution_count": 12,
     "metadata": {},
     "output_type": "execute_result"
    }
   ],
   "source": [
    "validate.head()"
   ]
  },
  {
   "cell_type": "markdown",
   "metadata": {},
   "source": [
    "# EXPLORE"
   ]
  },
  {
   "cell_type": "code",
   "execution_count": 13,
   "metadata": {},
   "outputs": [],
   "source": [
    "# function to convert df rows to list of words\n",
    "def rows_to_lists(text):\n",
    "    words = re.sub(r'[^\\w\\s]', '', text).split()\n",
    "    return words"
   ]
  },
  {
   "cell_type": "code",
   "execution_count": 14,
   "metadata": {},
   "outputs": [],
   "source": [
    "# separating languages and converting rows to lists (1 list per language)\n",
    "javascript = rows_to_lists(' '.join(gitMDs[gitMDs.language == 'javascript'].readme))\n",
    "php = rows_to_lists(' '.join(gitMDs[gitMDs.language == 'php'].readme))\n",
    "html = rows_to_lists(' '.join(gitMDs[gitMDs.language == 'html'].readme))\n",
    "ruby = rows_to_lists(' '.join(gitMDs[gitMDs.language == 'ruby'].readme))\n",
    "python = rows_to_lists(' '.join(gitMDs[gitMDs.language == 'python'].readme))"
   ]
  },
  {
   "cell_type": "markdown",
   "metadata": {},
   "source": [
    "## create bigrams"
   ]
  },
  {
   "cell_type": "code",
   "execution_count": 15,
   "metadata": {},
   "outputs": [
    {
     "data": {
      "text/plain": [
       "(npm, run)          52\n",
       "(google, doc)       19\n",
       "(google, sheet)     19\n",
       "(9, 9)              17\n",
       "(npm, install)      15\n",
       "(u, state)          11\n",
       "(texas, tribune)    11\n",
       "(data, file)        10\n",
       "(run, datafetch)    10\n",
       "(data, err)         10\n",
       "dtype: int64"
      ]
     },
     "execution_count": 15,
     "metadata": {},
     "output_type": "execute_result"
    }
   ],
   "source": [
    "# getting value counts of bigrams\n",
    "# ie. how often did they appear in data\n",
    "js_bigrams = pd.Series(nltk.ngrams(javascript, 2)).value_counts()\n",
    "\n",
    "# creating top 10 series of most common spam bigrams\n",
    "top_10_js_bigrams = js_bigrams.head(10)\n",
    "\n",
    "# checking top 10\n",
    "top_10_js_bigrams"
   ]
  },
  {
   "cell_type": "code",
   "execution_count": 16,
   "metadata": {},
   "outputs": [
    {
     "data": {
      "image/png": "[encoded data removed]",
      "text/plain": [
       "<Figure size 720x432 with 1 Axes>"
      ]
     },
     "metadata": {
      "needs_background": "light"
     },
     "output_type": "display_data"
    }
   ],
   "source": [
    "top_10_js_bigrams.sort_values().plot.barh(color='pink', width=.9, figsize=(10, 6))\n",
    "\n",
    "plt.title('10 Most frequently occuring javascript bigrams')\n",
    "plt.ylabel('Bigram')\n",
    "plt.xlabel('# Occurances')\n",
    "\n",
    "\n",
    "ticks, _ = plt.yticks()\n",
    "labels = top_10_js_bigrams.reset_index()['index'].apply(lambda t: t[0] + ' ' + t[1])\n",
    "_ = plt.yticks(ticks, labels)"
   ]
  },
  {
   "cell_type": "markdown",
   "metadata": {},
   "source": [
    "# bigram wordcloud"
   ]
  },
  {
   "cell_type": "code",
   "execution_count": 17,
   "metadata": {},
   "outputs": [
    {
     "data": {
      "text/plain": [
       "(-0.5, 799.5, 399.5, -0.5)"
      ]
     },
     "execution_count": 17,
     "metadata": {},
     "output_type": "execute_result"
    },
    {
     "data": {
      "image/png": "[encoded data removed]",
      "text/plain": [
       "<Figure size 576x288 with 1 Axes>"
      ]
     },
     "metadata": {
      "needs_background": "light"
     },
     "output_type": "display_data"
    }
   ],
   "source": [
    "data = {k[0] + ' ' + k[1]: v for k, v in top_10_js_bigrams.to_dict().items()}\n",
    "\n",
    "img = WordCloud(background_color='white', width=800, height=400).generate_from_frequencies(data)\n",
    "plt.figure(figsize=(8, 4))\n",
    "plt.imshow(img)\n",
    "plt.axis('off')"
   ]
  },
  {
   "cell_type": "markdown",
   "metadata": {},
   "source": [
    "# word cloud of single words"
   ]
  },
  {
   "cell_type": "code",
   "execution_count": 18,
   "metadata": {},
   "outputs": [],
   "source": [
    "# how often did each word appear in data?\n",
    "js_words = pd.Series(nltk.ngrams(javascript, 1)).value_counts()\n",
    "\n",
    "# top 10\n",
    "top_10_js_words = js_words.head(10)"
   ]
  },
  {
   "cell_type": "code",
   "execution_count": 19,
   "metadata": {},
   "outputs": [
    {
     "data": {
      "text/plain": [
       "(-0.5, 799.5, 399.5, -0.5)"
      ]
     },
     "execution_count": 19,
     "metadata": {},
     "output_type": "execute_result"
    },
    {
     "data": {
      "image/png": "[encoded data removed]",
      "text/plain": [
       "<Figure size 576x288 with 1 Axes>"
      ]
     },
     "metadata": {
      "needs_background": "light"
     },
     "output_type": "display_data"
    }
   ],
   "source": [
    "data = {k[0]: v for k, v in top_10_js_words.to_dict().items()}\n",
    "img = WordCloud(background_color='white', width=800, height=400).generate_from_frequencies(data)\n",
    "plt.figure(figsize=(8, 4))\n",
    "plt.imshow(img)\n",
    "plt.axis('off')"
   ]
  },
  {
   "cell_type": "code",
   "execution_count": 20,
   "metadata": {},
   "outputs": [
    {
     "data": {
      "image/png": "[encoded data removed]",
      "text/plain": [
       "<Figure size 720x432 with 1 Axes>"
      ]
     },
     "metadata": {
      "needs_background": "light"
     },
     "output_type": "display_data"
    }
   ],
   "source": [
    "top_10_js_words.sort_values().plot.barh(color='pink', width=.9, figsize=(10, 6))\n",
    "\n",
    "plt.title('10 Most frequently occuring javascript bigrams')\n",
    "plt.ylabel('Bigram')\n",
    "plt.xlabel('# Occurances')\n",
    "\n",
    "\n",
    "ticks, _ = plt.yticks()\n",
    "labels = top_10_js_bigrams.reset_index()['index'].apply(lambda t: t[0] + ' ' + t[1])\n",
    "_ = plt.yticks(ticks, labels)"
   ]
  },
  {
   "cell_type": "markdown",
   "metadata": {},
   "source": [
    "# MODEL"
   ]
  },
  {
   "cell_type": "code",
   "execution_count": 21,
   "metadata": {
    "scrolled": false
   },
   "outputs": [
    {
     "data": {
      "text/plain": [
       "python        14\n",
       "html          12\n",
       "php           12\n",
       "ruby          11\n",
       "javascript    11\n",
       "Name: language, dtype: int64"
      ]
     },
     "execution_count": 21,
     "metadata": {},
     "output_type": "execute_result"
    }
   ],
   "source": [
    "train.language.value_counts()"
   ]
  },
  {
   "cell_type": "code",
   "execution_count": 22,
   "metadata": {},
   "outputs": [],
   "source": [
    "train['baseline_prediction'] = 'python'"
   ]
  },
  {
   "cell_type": "code",
   "execution_count": 23,
   "metadata": {
    "scrolled": true
   },
   "outputs": [
    {
     "data": {
      "text/html": [
       "<div>\n",
       "<style scoped>\n",
       "    .dataframe tbody tr th:only-of-type {\n",
       "        vertical-align: middle;\n",
       "    }\n",
       "\n",
       "    .dataframe tbody tr th {\n",
       "        vertical-align: top;\n",
       "    }\n",
       "\n",
       "    .dataframe thead th {\n",
       "        text-align: right;\n",
       "    }\n",
       "</style>\n",
       "<table border=\"1\" class=\"dataframe\">\n",
       "  <thead>\n",
       "    <tr style=\"text-align: right;\">\n",
       "      <th></th>\n",
       "      <th>language</th>\n",
       "      <th>readme</th>\n",
       "      <th>baseline_prediction</th>\n",
       "    </tr>\n",
       "  </thead>\n",
       "  <tbody>\n",
       "    <tr>\n",
       "      <th>71</th>\n",
       "      <td>html</td>\n",
       "      <td>glis glis constraint based layout system artic...</td>\n",
       "      <td>python</td>\n",
       "    </tr>\n",
       "    <tr>\n",
       "      <th>67</th>\n",
       "      <td>html</td>\n",
       "      <td>vizier gui ai2html project vizier make easy us...</td>\n",
       "      <td>python</td>\n",
       "    </tr>\n",
       "    <tr>\n",
       "      <th>17</th>\n",
       "      <td>ruby</td>\n",
       "      <td>collectdcookbook application cookbook installs...</td>\n",
       "      <td>python</td>\n",
       "    </tr>\n",
       "    <tr>\n",
       "      <th>97</th>\n",
       "      <td>php</td>\n",
       "      <td>zaphpa installing zaphpa composer add zaphpaza...</td>\n",
       "      <td>python</td>\n",
       "    </tr>\n",
       "    <tr>\n",
       "      <th>49</th>\n",
       "      <td>python</td>\n",
       "      <td>texas legislative district reusable django app...</td>\n",
       "      <td>python</td>\n",
       "    </tr>\n",
       "  </tbody>\n",
       "</table>\n",
       "</div>"
      ],
      "text/plain": [
       "   language                                             readme  \\\n",
       "71     html  glis glis constraint based layout system artic...   \n",
       "67     html  vizier gui ai2html project vizier make easy us...   \n",
       "17     ruby  collectdcookbook application cookbook installs...   \n",
       "97      php  zaphpa installing zaphpa composer add zaphpaza...   \n",
       "49   python  texas legislative district reusable django app...   \n",
       "\n",
       "   baseline_prediction  \n",
       "71              python  \n",
       "67              python  \n",
       "17              python  \n",
       "97              python  \n",
       "49              python  "
      ]
     },
     "execution_count": 23,
     "metadata": {},
     "output_type": "execute_result"
    }
   ],
   "source": [
    "train.head()"
   ]
  },
  {
   "cell_type": "code",
   "execution_count": 24,
   "metadata": {},
   "outputs": [
    {
     "name": "stdout",
     "output_type": "stream",
     "text": [
      "              precision    recall  f1-score   support\n",
      "\n",
      "        html       0.00      0.00      0.00        12\n",
      "  javascript       0.00      0.00      0.00        11\n",
      "         php       0.00      0.00      0.00        12\n",
      "      python       0.23      1.00      0.38        14\n",
      "        ruby       0.00      0.00      0.00        11\n",
      "\n",
      "    accuracy                           0.23        60\n",
      "   macro avg       0.05      0.20      0.08        60\n",
      "weighted avg       0.05      0.23      0.09        60\n",
      "\n"
     ]
    }
   ],
   "source": [
    "print(classification_report(train.language, train.baseline_prediction))"
   ]
  },
  {
   "cell_type": "markdown",
   "metadata": {},
   "source": [
    "# bag of words"
   ]
  },
  {
   "cell_type": "code",
   "execution_count": 25,
   "metadata": {},
   "outputs": [
    {
     "data": {
      "text/plain": [
       "['add',\n",
       " 'app',\n",
       " 'change',\n",
       " 'code',\n",
       " 'command',\n",
       " 'content',\n",
       " 'create',\n",
       " 'data',\n",
       " 'default',\n",
       " 'example',\n",
       " 'file',\n",
       " 'following',\n",
       " 'include',\n",
       " 'information',\n",
       " 'install',\n",
       " 'installation',\n",
       " 'key',\n",
       " 'like',\n",
       " 'make',\n",
       " 'need',\n",
       " 'new',\n",
       " 'option',\n",
       " 'project',\n",
       " 'run',\n",
       " 'server',\n",
       " 'set',\n",
       " 'start',\n",
       " 'test',\n",
       " 'time',\n",
       " 'url',\n",
       " 'usage',\n",
       " 'use',\n",
       " 'used',\n",
       " 'user',\n",
       " 'using',\n",
       " 'version',\n",
       " 'want',\n",
       " 'work']"
      ]
     },
     "execution_count": 25,
     "metadata": {},
     "output_type": "execute_result"
    }
   ],
   "source": [
    "# creating vectorizer\n",
    "vectorizer = CountVectorizer(stop_words='english', \n",
    "                             min_df=20, \n",
    "                             ngram_range=(1,2), \n",
    "                             binary=True)\n",
    "\n",
    "# Learn vocabulary in sentences. \n",
    "vectorizer.fit(train.readme)\n",
    "\n",
    "# Get dictionary. \n",
    "vectorizer.get_feature_names()"
   ]
  },
  {
   "cell_type": "code",
   "execution_count": 26,
   "metadata": {},
   "outputs": [],
   "source": [
    "# Transform each sentences in vector space.\n",
    "bow = vectorizer.transform(train.readme)\n",
    "\n",
    "X_bow = bow"
   ]
  },
  {
   "cell_type": "code",
   "execution_count": 27,
   "metadata": {},
   "outputs": [],
   "source": [
    "# create our y dataset\n",
    "y = train['language']\n",
    "\n",
    "lm = LogisticRegression().fit(X_bow, y)\n",
    "\n",
    "train['predicted'] = lm.predict(X_bow)"
   ]
  },
  {
   "cell_type": "code",
   "execution_count": 28,
   "metadata": {},
   "outputs": [
    {
     "name": "stdout",
     "output_type": "stream",
     "text": [
      "              precision    recall  f1-score   support\n",
      "\n",
      "        html       1.00      1.00      1.00        12\n",
      "  javascript       1.00      0.91      0.95        11\n",
      "         php       0.92      1.00      0.96        12\n",
      "      python       1.00      1.00      1.00        14\n",
      "        ruby       1.00      1.00      1.00        11\n",
      "\n",
      "    accuracy                           0.98        60\n",
      "   macro avg       0.98      0.98      0.98        60\n",
      "weighted avg       0.98      0.98      0.98        60\n",
      "\n"
     ]
    }
   ],
   "source": [
    "print(classification_report(train.language, train.predicted))"
   ]
  },
  {
   "cell_type": "code",
   "execution_count": 29,
   "metadata": {
    "scrolled": true
   },
   "outputs": [],
   "source": [
    "# Transform each sentences in vector space.\n",
    "v_bow = vectorizer.transform(validate.readme)\n",
    "\n",
    "validate['predicted'] = lm.predict(v_bow)"
   ]
  },
  {
   "cell_type": "code",
   "execution_count": 30,
   "metadata": {},
   "outputs": [
    {
     "name": "stdout",
     "output_type": "stream",
     "text": [
      "              precision    recall  f1-score   support\n",
      "\n",
      "        html       0.00      0.00      0.00         4\n",
      "  javascript       0.33      0.25      0.29         4\n",
      "         php       0.25      0.25      0.25         4\n",
      "      python       0.12      0.25      0.17         4\n",
      "        ruby       0.50      0.50      0.50         4\n",
      "\n",
      "    accuracy                           0.25        20\n",
      "   macro avg       0.24      0.25      0.24        20\n",
      "weighted avg       0.24      0.25      0.24        20\n",
      "\n"
     ]
    }
   ],
   "source": [
    "print(classification_report(validate.language, validate.predicted))"
   ]
  },
  {
   "cell_type": "markdown",
   "metadata": {},
   "source": [
    "# tfidf"
   ]
  },
  {
   "cell_type": "code",
   "execution_count": 38,
   "metadata": {},
   "outputs": [
    {
     "data": {
      "text/plain": [
       "<60x38 sparse matrix of type '<class 'numpy.float64'>'\n",
       "\twith 1026 stored elements in Compressed Sparse Row format>"
      ]
     },
     "execution_count": 38,
     "metadata": {},
     "output_type": "execute_result"
    }
   ],
   "source": [
    "tfidf = TfidfVectorizer(stop_words='english', min_df = 20,\n",
    "                             ngram_range=(1,2), \n",
    "                             binary=True)\n",
    "\n",
    "tfidf_sparse_matrix = tfidf.fit_transform(train.readme)\n",
    "\n",
    "tfidf_sparse_matrix"
   ]
  },
  {
   "cell_type": "code",
   "execution_count": 39,
   "metadata": {},
   "outputs": [
    {
     "data": {
      "text/plain": [
       "{'change': 2,\n",
       " 'code': 3,\n",
       " 'install': 14,\n",
       " 'file': 10,\n",
       " 'project': 22,\n",
       " 'want': 36,\n",
       " 'content': 5,\n",
       " 'work': 37,\n",
       " 'set': 25,\n",
       " 'default': 8,\n",
       " 'use': 31,\n",
       " 'like': 17,\n",
       " 'include': 12,\n",
       " 'following': 11,\n",
       " 'using': 34,\n",
       " 'need': 19,\n",
       " 'used': 32,\n",
       " 'data': 7,\n",
       " 'make': 18,\n",
       " 'new': 20,\n",
       " 'time': 28,\n",
       " 'run': 23,\n",
       " 'app': 1,\n",
       " 'create': 6,\n",
       " 'option': 21,\n",
       " 'url': 29,\n",
       " 'add': 0,\n",
       " 'example': 9,\n",
       " 'test': 27,\n",
       " 'installation': 15,\n",
       " 'version': 35,\n",
       " 'usage': 30,\n",
       " 'user': 33,\n",
       " 'command': 4,\n",
       " 'start': 26,\n",
       " 'server': 24,\n",
       " 'key': 16,\n",
       " 'information': 13}"
      ]
     },
     "execution_count": 39,
     "metadata": {},
     "output_type": "execute_result"
    }
   ],
   "source": [
    "tfidf.vocabulary_"
   ]
  },
  {
   "cell_type": "code",
   "execution_count": 41,
   "metadata": {},
   "outputs": [
    {
     "data": {
      "text/plain": [
       "array([[0.        , 0.        , 0.27352036, ..., 0.        , 0.27981998,\n",
       "        0.25620949],\n",
       "       [0.20003603, 0.2356433 , 0.24094595, ..., 0.        , 0.24649533,\n",
       "        0.        ],\n",
       "       [0.        , 0.        , 0.        , ..., 0.28304789, 0.        ,\n",
       "        0.        ],\n",
       "       ...,\n",
       "       [0.        , 0.34253196, 0.        , ..., 0.        , 0.        ,\n",
       "        0.        ],\n",
       "       [0.20284942, 0.        , 0.24433472, ..., 0.        , 0.24996215,\n",
       "        0.        ],\n",
       "       [0.16114396, 0.18982828, 0.19409996, ..., 0.        , 0.1985704 ,\n",
       "        0.18181555]])"
      ]
     },
     "execution_count": 41,
     "metadata": {},
     "output_type": "execute_result"
    }
   ],
   "source": [
    "# Transform to document-term matrix\n",
    "vector_spaces = tfidf.transform(train.readme)\n",
    "vector_spaces.toarray()"
   ]
  },
  {
   "cell_type": "code",
   "execution_count": 42,
   "metadata": {},
   "outputs": [],
   "source": [
    "X_tfidf = tfidf_sparse_matrix"
   ]
  },
  {
   "cell_type": "code",
   "execution_count": 43,
   "metadata": {},
   "outputs": [],
   "source": [
    "lm_tfidf = LogisticRegression().fit(X_tfidf, y)\n",
    "\n",
    "train['pred_tfidf'] = lm_tfidf.predict(X_tfidf)"
   ]
  },
  {
   "cell_type": "code",
   "execution_count": 44,
   "metadata": {},
   "outputs": [
    {
     "name": "stdout",
     "output_type": "stream",
     "text": [
      "              precision    recall  f1-score   support\n",
      "\n",
      "        html       0.71      0.83      0.77        12\n",
      "  javascript       0.88      0.64      0.74        11\n",
      "         php       0.91      0.83      0.87        12\n",
      "      python       0.87      0.93      0.90        14\n",
      "        ruby       0.92      1.00      0.96        11\n",
      "\n",
      "    accuracy                           0.85        60\n",
      "   macro avg       0.86      0.85      0.85        60\n",
      "weighted avg       0.86      0.85      0.85        60\n",
      "\n"
     ]
    }
   ],
   "source": [
    "print(classification_report(train.language, train.pred_tfidf))"
   ]
  },
  {
   "cell_type": "code",
   "execution_count": 45,
   "metadata": {},
   "outputs": [],
   "source": [
    "tfidf_sparse_matrix = tfidf.transform(validate.readme)"
   ]
  },
  {
   "cell_type": "code",
   "execution_count": 46,
   "metadata": {},
   "outputs": [
    {
     "data": {
      "text/plain": [
       "{'change': 2,\n",
       " 'code': 3,\n",
       " 'install': 14,\n",
       " 'file': 10,\n",
       " 'project': 22,\n",
       " 'want': 36,\n",
       " 'content': 5,\n",
       " 'work': 37,\n",
       " 'set': 25,\n",
       " 'default': 8,\n",
       " 'use': 31,\n",
       " 'like': 17,\n",
       " 'include': 12,\n",
       " 'following': 11,\n",
       " 'using': 34,\n",
       " 'need': 19,\n",
       " 'used': 32,\n",
       " 'data': 7,\n",
       " 'make': 18,\n",
       " 'new': 20,\n",
       " 'time': 28,\n",
       " 'run': 23,\n",
       " 'app': 1,\n",
       " 'create': 6,\n",
       " 'option': 21,\n",
       " 'url': 29,\n",
       " 'add': 0,\n",
       " 'example': 9,\n",
       " 'test': 27,\n",
       " 'installation': 15,\n",
       " 'version': 35,\n",
       " 'usage': 30,\n",
       " 'user': 33,\n",
       " 'command': 4,\n",
       " 'start': 26,\n",
       " 'server': 24,\n",
       " 'key': 16,\n",
       " 'information': 13}"
      ]
     },
     "execution_count": 46,
     "metadata": {},
     "output_type": "execute_result"
    }
   ],
   "source": [
    "tfidf.vocabulary_"
   ]
  },
  {
   "cell_type": "code",
   "execution_count": 47,
   "metadata": {},
   "outputs": [
    {
     "data": {
      "text/plain": [
       "array([[0.        , 0.        , 0.        , 0.24454667, 0.        ,\n",
       "        0.28329277, 0.        , 0.        , 0.        , 0.        ,\n",
       "        0.20663693, 0.26536342, 0.        , 0.28981746, 0.20663693,\n",
       "        0.27705816, 0.        , 0.        , 0.        , 0.23519283,\n",
       "        0.24946843, 0.        , 0.22223695, 0.19597947, 0.        ,\n",
       "        0.        , 0.        , 0.        , 0.25986249, 0.        ,\n",
       "        0.        , 0.17682398, 0.25986249, 0.27108893, 0.19597947,\n",
       "        0.24454667, 0.        , 0.        ],\n",
       "       [0.20965141, 0.        , 0.2525278 , 0.        , 0.        ,\n",
       "        0.        , 0.23654554, 0.        , 0.20183485, 0.19447837,\n",
       "        0.        , 0.        , 0.231642  , 0.        , 0.18419662,\n",
       "        0.24697026, 0.25834393, 0.        , 0.        , 0.        ,\n",
       "        0.22237671, 0.24697026, 0.        , 0.        , 0.23654554,\n",
       "        0.        , 0.        , 0.        , 0.231642  , 0.        ,\n",
       "        0.22692355, 0.15762129, 0.231642  , 0.24164928, 0.17469654,\n",
       "        0.21798945, 0.        , 0.23654554],\n",
       "       [0.17026509, 0.        , 0.20508648, 0.        , 0.20980996,\n",
       "        0.        , 0.19210674, 0.19210674, 0.163917  , 0.15794254,\n",
       "        0.14959238, 0.19210674, 0.        , 0.20980996, 0.14959238,\n",
       "        0.        , 0.20980996, 0.1770367 , 0.19210674, 0.17026509,\n",
       "        0.18059975, 0.20057301, 0.        , 0.14187704, 0.19210674,\n",
       "        0.163917  , 0.20508648, 0.19625166, 0.        , 0.19210674,\n",
       "        0.18429239, 0.12800965, 0.1881244 , 0.        , 0.14187704,\n",
       "        0.1770367 , 0.20980996, 0.19210674],\n",
       "       [0.        , 0.        , 0.        , 0.        , 0.        ,\n",
       "        0.        , 0.25631324, 0.25631324, 0.        , 0.21073059,\n",
       "        0.        , 0.        , 0.        , 0.27993329, 0.19958961,\n",
       "        0.26760914, 0.27993329, 0.        , 0.25631324, 0.        ,\n",
       "        0.24096035, 0.26760914, 0.        , 0.        , 0.        ,\n",
       "        0.21870185, 0.        , 0.26184349, 0.25099992, 0.        ,\n",
       "        0.24588716, 0.17079343, 0.        , 0.        , 0.18929563,\n",
       "        0.23620645, 0.        , 0.        ],\n",
       "       [0.        , 0.        , 0.        , 0.        , 0.        ,\n",
       "        0.        , 0.28526273, 0.28526273, 0.24340328, 0.        ,\n",
       "        0.        , 0.28526273, 0.        , 0.31155056, 0.2221324 ,\n",
       "        0.        , 0.        , 0.26288496, 0.28526273, 0.        ,\n",
       "        0.        , 0.        , 0.        , 0.        , 0.        ,\n",
       "        0.        , 0.        , 0.29141759, 0.        , 0.        ,\n",
       "        0.27365906, 0.19008382, 0.27934929, 0.        , 0.21067576,\n",
       "        0.        , 0.        , 0.28526273],\n",
       "       [0.22679531, 0.26716584, 0.27317785, 0.        , 0.27946958,\n",
       "        0.        , 0.25588866, 0.25588866, 0.        , 0.        ,\n",
       "        0.        , 0.        , 0.        , 0.        , 0.19925899,\n",
       "        0.        , 0.27946958, 0.        , 0.25588866, 0.22679531,\n",
       "        0.        , 0.        , 0.21430202, 0.18898206, 0.25588866,\n",
       "        0.21833957, 0.        , 0.        , 0.25058414, 0.        ,\n",
       "        0.        , 0.        , 0.        , 0.        , 0.18898206,\n",
       "        0.        , 0.        , 0.25588866],\n",
       "       [0.        , 0.        , 0.        , 0.        , 0.        ,\n",
       "        0.        , 0.        , 0.        , 0.        , 0.        ,\n",
       "        0.        , 0.        , 0.        , 0.        , 0.        ,\n",
       "        0.        , 0.        , 0.        , 0.        , 0.        ,\n",
       "        0.        , 0.        , 0.        , 0.        , 0.        ,\n",
       "        0.        , 0.        , 0.        , 0.        , 0.        ,\n",
       "        0.        , 0.        , 0.        , 1.        , 0.        ,\n",
       "        0.        , 0.        , 0.        ],\n",
       "       [0.        , 0.        , 0.        , 0.        , 0.        ,\n",
       "        0.        , 0.        , 0.        , 0.        , 0.        ,\n",
       "        0.        , 0.        , 0.        , 0.        , 0.2492073 ,\n",
       "        0.        , 0.        , 0.        , 0.        , 0.28364615,\n",
       "        0.        , 0.        , 0.26802116, 0.23635424, 0.32003234,\n",
       "        0.27307081, 0.34165542, 0.3269374 , 0.        , 0.        ,\n",
       "        0.30701435, 0.21325243, 0.        , 0.        , 0.        ,\n",
       "        0.29492703, 0.        , 0.32003234],\n",
       "       [0.        , 0.        , 0.2430084 , 0.20977201, 0.24860528,\n",
       "        0.2430084 , 0.        , 0.        , 0.        , 0.        ,\n",
       "        0.17725305, 0.22762861, 0.22290991, 0.24860528, 0.17725305,\n",
       "        0.        , 0.        , 0.20977201, 0.22762861, 0.        ,\n",
       "        0.21399389, 0.        , 0.        , 0.16811109, 0.22762861,\n",
       "        0.        , 0.2430084 , 0.        , 0.22290991, 0.22762861,\n",
       "        0.        , 0.        , 0.        , 0.23253995, 0.        ,\n",
       "        0.        , 0.24860528, 0.22762861],\n",
       "       [0.17727343, 0.        , 0.21352811, 0.18432376, 0.        ,\n",
       "        0.        , 0.20001411, 0.        , 0.17066404, 0.16444367,\n",
       "        0.1557498 , 0.20001411, 0.        , 0.21844601, 0.1557498 ,\n",
       "        0.20882886, 0.21844601, 0.18432376, 0.20001411, 0.17727343,\n",
       "        0.18803347, 0.20882886, 0.        , 0.14771689, 0.        ,\n",
       "        0.17066404, 0.21352811, 0.20432964, 0.19586786, 0.        ,\n",
       "        0.19187811, 0.1332787 , 0.19586786, 0.20432964, 0.14771689,\n",
       "        0.        , 0.21844601, 0.        ],\n",
       "       [0.31756582, 0.        , 0.        , 0.        , 0.39132196,\n",
       "        0.        , 0.        , 0.        , 0.        , 0.29458271,\n",
       "        0.27900861, 0.        , 0.35087568, 0.        , 0.27900861,\n",
       "        0.37409389, 0.        , 0.        , 0.        , 0.        ,\n",
       "        0.33684124, 0.        , 0.        , 0.26461853, 0.        ,\n",
       "        0.        , 0.        , 0.        , 0.        , 0.        ,\n",
       "        0.        , 0.2387541 , 0.        , 0.        , 0.        ,\n",
       "        0.        , 0.        , 0.        ],\n",
       "       [0.        , 0.        , 0.34161732, 0.        , 0.        ,\n",
       "        0.        , 0.        , 0.        , 0.        , 0.        ,\n",
       "        0.24917951, 0.31999666, 0.3133632 , 0.        , 0.24917951,\n",
       "        0.        , 0.        , 0.        , 0.        , 0.        ,\n",
       "        0.3008292 , 0.        , 0.26799128, 0.23632789, 0.        ,\n",
       "        0.27304036, 0.        , 0.        , 0.3133632 , 0.        ,\n",
       "        0.        , 0.21322865, 0.        , 0.        , 0.        ,\n",
       "        0.        , 0.34948533, 0.        ],\n",
       "       [0.        , 0.        , 0.        , 0.        , 0.32087338,\n",
       "        0.        , 0.29379891, 0.29379891, 0.        , 0.24154982,\n",
       "        0.22877948, 0.        , 0.        , 0.        , 0.22877948,\n",
       "        0.        , 0.        , 0.27075151, 0.29379891, 0.26039534,\n",
       "        0.27620067, 0.        , 0.24605115, 0.21698001, 0.        ,\n",
       "        0.        , 0.        , 0.        , 0.        , 0.        ,\n",
       "        0.        , 0.        , 0.        , 0.        , 0.21698001,\n",
       "        0.        , 0.32087338, 0.        ],\n",
       "       [0.        , 0.        , 0.        , 0.        , 0.        ,\n",
       "        0.        , 0.        , 0.        , 0.        , 0.        ,\n",
       "        0.        , 0.        , 0.        , 0.        , 0.        ,\n",
       "        0.        , 0.        , 0.        , 0.        , 0.        ,\n",
       "        0.        , 0.        , 1.        , 0.        , 0.        ,\n",
       "        0.        , 0.        , 0.        , 0.        , 0.        ,\n",
       "        0.        , 0.        , 0.        , 0.        , 0.        ,\n",
       "        0.        , 0.        , 0.        ],\n",
       "       [0.27409478, 0.        , 0.        , 0.28499578, 0.        ,\n",
       "        0.33015066, 0.        , 0.        , 0.        , 0.        ,\n",
       "        0.2408156 , 0.        , 0.        , 0.        , 0.        ,\n",
       "        0.32288482, 0.        , 0.        , 0.        , 0.        ,\n",
       "        0.29073162, 0.32288482, 0.        , 0.22839535, 0.30925571,\n",
       "        0.        , 0.        , 0.        , 0.        , 0.30925571,\n",
       "        0.29667608, 0.        , 0.        , 0.        , 0.22839535,\n",
       "        0.        , 0.        , 0.        ],\n",
       "       [0.        , 0.        , 0.        , 0.        , 0.        ,\n",
       "        0.30604267, 0.        , 0.        , 0.24460703, 0.23569158,\n",
       "        0.22323096, 0.28667349, 0.        , 0.        , 0.22323096,\n",
       "        0.29930738, 0.        , 0.        , 0.        , 0.25408005,\n",
       "        0.        , 0.29930738, 0.        , 0.        , 0.        ,\n",
       "        0.24460703, 0.        , 0.        , 0.        , 0.        ,\n",
       "        0.27501244, 0.19102388, 0.28073081, 0.        , 0.21171765,\n",
       "        0.26418505, 0.        , 0.        ],\n",
       "       [0.20573416, 0.        , 0.24780942, 0.2139164 , 0.        ,\n",
       "        0.24780942, 0.23212578, 0.        , 0.19806365, 0.19084461,\n",
       "        0.18075497, 0.23212578, 0.        , 0.        , 0.18075497,\n",
       "        0.24235571, 0.        , 0.2139164 , 0.23212578, 0.20573416,\n",
       "        0.21822169, 0.        , 0.19440104, 0.        , 0.        ,\n",
       "        0.        , 0.        , 0.        , 0.        , 0.23212578,\n",
       "        0.22268357, 0.1546762 , 0.22731386, 0.        , 0.1714324 ,\n",
       "        0.2139164 , 0.        , 0.        ],\n",
       "       [0.        , 0.57510293, 0.        , 0.        , 0.        ,\n",
       "        0.        , 0.        , 0.        , 0.        , 0.        ,\n",
       "        0.        , 0.        , 0.        , 0.        , 0.        ,\n",
       "        0.        , 0.        , 0.        , 0.        , 0.        ,\n",
       "        0.        , 0.        , 0.46130791, 0.        , 0.        ,\n",
       "        0.        , 0.        , 0.        , 0.        , 0.        ,\n",
       "        0.        , 0.        , 0.53940905, 0.        , 0.40680401,\n",
       "        0.        , 0.        , 0.        ],\n",
       "       [0.1618852 , 0.19070145, 0.19499279, 0.16832352, 0.        ,\n",
       "        0.19499279, 0.        , 0.18265186, 0.15584953, 0.15016912,\n",
       "        0.14222993, 0.18265186, 0.17886553, 0.19948379, 0.14222993,\n",
       "        0.19070145, 0.19948379, 0.16832352, 0.18265186, 0.1618852 ,\n",
       "        0.17171121, 0.19070145, 0.        , 0.13489431, 0.18265186,\n",
       "        0.15584953, 0.        , 0.18659278, 0.17886553, 0.18265186,\n",
       "        0.        , 0.12170943, 0.17886553, 0.18659278, 0.13489431,\n",
       "        0.16832352, 0.19948379, 0.18265186],\n",
       "       [0.        , 0.        , 0.22288197, 0.        , 0.2280153 ,\n",
       "        0.        , 0.20877596, 0.20877596, 0.        , 0.17164732,\n",
       "        0.16257261, 0.20877596, 0.20444808, 0.        , 0.16257261,\n",
       "        0.21797686, 0.        , 0.19239829, 0.20877596, 0.18503911,\n",
       "        0.1962705 , 0.        , 0.174846  , 0.15418781, 0.        ,\n",
       "        0.17814018, 0.22288197, 0.21328054, 0.        , 0.20877596,\n",
       "        0.20028356, 0.13911713, 0.        , 0.21328054, 0.15418781,\n",
       "        0.19239829, 0.2280153 , 0.        ]])"
      ]
     },
     "execution_count": 47,
     "metadata": {},
     "output_type": "execute_result"
    }
   ],
   "source": [
    "# Transform to document-term matrix\n",
    "vector_spaces = tfidf.transform(validate.readme)\n",
    "vector_spaces.toarray()"
   ]
  },
  {
   "cell_type": "code",
   "execution_count": 48,
   "metadata": {},
   "outputs": [],
   "source": [
    "X_tfidf = tfidf_sparse_matrix"
   ]
  },
  {
   "cell_type": "code",
   "execution_count": 49,
   "metadata": {},
   "outputs": [],
   "source": [
    "validate['pred_tfidf'] = lm_tfidf.predict(X_tfidf)"
   ]
  },
  {
   "cell_type": "code",
   "execution_count": 50,
   "metadata": {},
   "outputs": [
    {
     "name": "stdout",
     "output_type": "stream",
     "text": [
      "              precision    recall  f1-score   support\n",
      "\n",
      "        html       0.00      0.00      0.00         4\n",
      "  javascript       0.33      0.25      0.29         4\n",
      "         php       0.20      0.25      0.22         4\n",
      "      python       0.22      0.50      0.31         4\n",
      "        ruby       0.67      0.50      0.57         4\n",
      "\n",
      "    accuracy                           0.30        20\n",
      "   macro avg       0.28      0.30      0.28        20\n",
      "weighted avg       0.28      0.30      0.28        20\n",
      "\n"
     ]
    }
   ],
   "source": [
    "print(classification_report(validate.language, validate.pred_tfidf))"
   ]
  },
  {
   "cell_type": "code",
   "execution_count": null,
   "metadata": {},
   "outputs": [],
   "source": []
  }
 ],
 "metadata": {
  "kernelspec": {
   "display_name": "Python 3",
   "language": "python",
   "name": "python3"
  },
  "language_info": {
   "codemirror_mode": {
    "name": "ipython",
    "version": 3
   },
   "file_extension": ".py",
   "mimetype": "text/x-python",
   "name": "python",
   "nbconvert_exporter": "python",
   "pygments_lexer": "ipython3",
   "version": "3.7.6"
  }
 },
 "nbformat": 4,
 "nbformat_minor": 4
}
