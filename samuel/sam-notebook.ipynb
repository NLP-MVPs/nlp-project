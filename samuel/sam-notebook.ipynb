{
 "cells": [
  {
   "cell_type": "code",
   "execution_count": 1,
   "metadata": {},
   "outputs": [],
   "source": [
    "# my notebook"
   ]
  },
  {
   "cell_type": "code",
   "execution_count": 29,
   "metadata": {},
   "outputs": [],
   "source": [
    "import numpy as np\n",
    "from bs4 import BeautifulSoup\n",
    "import requests\n",
    "import pandas as pd\n",
    "from requests import get\n",
    "from prepare import prep_gitMDs\n",
    "import nltk\n",
    "from wordcloud import WordCloud\n",
    "\n",
    "from prepare import basic_body_clean\n",
    "from prepare import tokenize\n",
    "from prepare import remove_stopwords\n",
    "from prepare import lemmatize\n",
    "from prepare import basic_code_clean\n",
    "\n",
    "from sklearn.feature_extraction.text import CountVectorizer\n",
    "from sklearn.feature_extraction.text import TfidfVectorizer\n",
    "\n",
    "import warnings\n",
    "warnings.filterwarnings(\"ignore\")\n",
    "\n",
    "import matplotlib.pyplot as plt\n",
    "import seaborn as sns"
   ]
  },
  {
   "cell_type": "code",
   "execution_count": 54,
   "metadata": {},
   "outputs": [],
   "source": [
    "# setting up environment\n",
    "import re\n",
    "import unicodedata\n",
    "import pandas as pd\n",
    "import nltk\n",
    "import matplotlib.pyplot as plt\n",
    "import seaborn as sns\n",
    "\n",
    "from wordcloud import WordCloud\n",
    "\n",
    "import warnings\n",
    "warnings.filterwarnings(\"ignore\")\n",
    "\n",
    "from requests import get\n",
    "from bs4 import BeautifulSoup\n",
    "import os"
   ]
  },
  {
   "cell_type": "markdown",
   "metadata": {},
   "source": [
    "# ACQUIRE"
   ]
  },
  {
   "cell_type": "code",
   "execution_count": 94,
   "metadata": {},
   "outputs": [],
   "source": [
    "url = ['https://github.com/pewresearch/pewanalytics', 'https://github.com/texastribune/scuole', 'https://github.com/texastribune/thermometer', 'https://github.com/texastribune/walls', 'https://github.com/texastribune/geoip2', 'https://github.com/texastribune/queso-tools', 'https://github.com/texastribune/django-locking', 'https://github.com/texastribune/data-visuals-create', 'https://github.com/texastribune/tacobots', 'https://github.com/newscorp-ghfb/validates_timeliness','https://github.com/newscorp-ghfb/rbenv-cookbook','https://github.com/newscorp-ghfb/geogle']\n",
    "\n",
    "url2 = ['https://github.com/pewresearch/pewtils', 'https://github.com/pewresearch/search_sampler', 'https://github.com/gawkermedia/kinja-post-gem', 'https://github.com/bloomberg/chef-bcpc', 'https://github.com/bloomberg/locking_resource-cookbook', 'https://github.com/bloomberg/collectd-cookbook', 'https://github.com/bloomberg/nginx-cookbook', 'https://github.com/bloomberg/consul-cluster-cookbook', 'https://github.com/bloomberg/cobbler-cookbook', 'https://github.com/bloomberg/openbfdd-cookbook', 'https://github.com/newscorp-ghfb/kaminari']\n",
    "\n",
    "url3 = ['https://github.com/bloomberg/chef-bcs', 'https://github.com/bloomberg/zookeeper-cookbook', 'https://github.com/bloomberg/confd-cookbook', 'https://github.com/bloomberg/collectd_plugins-cookbook', 'https://github.com/bloomberg/kubernetes-cluster-cookbook', 'https://github.com/techcrunch/ey-cloud-recipes', 'https://github.com/techcrunch/json_printer', 'https://github.com/observermedia/realgraph-listener', 'https://github.com/observermedia/django-wordpress-rest', 'https://github.com/thenextweb/passgenerator']\n",
    "\n",
    "url4 = ['https://github.com/thenextweb/amp-wp', 'https://github.com/thenextweb/laravel-elasticsearch', 'https://github.com/thenextweb/slack-laravel', 'https://github.com/thenextweb/craft-3-adminbar', 'https://github.com/thenextweb/Embed', 'https://github.com/thenextweb/oembed', 'https://github.com/thenextweb/flatten', 'https://github.com/texastribune/top10pct', 'https://github.com/texastribune/newsapps-app-kit']\n",
    "\n",
    "url5 = ['https://github.com/thenextweb/cro', 'https://github.com/thenextweb/jQuery-Search', 'https://github.com/texastribune/tx_salaries', 'https://github.com/texastribune/the-dp', 'https://github.com/texastribune/tx_lege_districts', 'https://github.com/texastribune/tt_social_auth', 'https://github.com/texastribune/armstrong.core.tt_sections', 'https://github.com/texastribune/aeis', 'https://github.com/texastribune/ox-scale', 'https://github.com/texastribune/django-gistpage', 'https://github.com/newscorp-ghfb/sidekiq-throttler']\n",
    "\n",
    "url6 = ['https://github.com/theatlantic/django-nested-admin', 'https://github.com/theatlantic/django-xml', 'https://github.com/theatlantic/django-select2-forms', 'https://github.com/theatlantic/django-admin-locking', 'https://github.com/texastribune/lethal-drug-tracker', 'https://github.com/texastribune/txlege-camera-status', 'https://github.com/texastribune/postcss-amp', 'https://github.com/texastribune/talk', 'https://github.com/texastribune/code-grabber', 'https://github.com/texastribune/react-external-boilerplate']\n",
    "\n",
    "url7 = ['https://github.com/voxmedia/vc-ikea-minisite', 'https://github.com/voxmedia/viz-app', 'https://github.com/voxmedia/prebid.github.io', 'https://github.com/voxmedia/Transcriber', 'https://github.com/voxmedia/userstamp', 'https://github.com/voxmedia/gliss', 'https://github.com/nbcnews/octopus-vr', 'https://github.com/texastribune/donations-app', 'https://github.com/texastribune/djangocms-text-ckeditor', 'https://github.com/texastribune/newsapps-styleguide-2.0', 'https://github.com/texastribune/500', 'https://github.com/WSJ/pinpoint-editor', 'https://github.com/WSJ/ballot-tally']\n",
    "\n",
    "url8 = ['https://github.com/texastribune/txlege84', 'https://github.com/texastribune/donation-builder', 'https://github.com/abcnews/scrollyteller', 'https://github.com/abcnews/odyssey-scrollyteller', 'https://github.com/abcnews/data-life', 'https://github.com/abcnews/interactive-ssm-map', 'https://github.com/ajam/chartbuilder-electron', 'https://github.com/WSJ/scroll-watcher', 'https://github.com/WSJ/two-step', 'https://github.com/texastribune/faces-of-death-row', 'https://github.com/texastribune/text-balancer', 'https://github.com/WSJ/squaire']\n",
    "\n",
    "url9 = ['https://github.com/WSJ/the-meta-tag-checker', 'https://github.com/npr/nprapi-wordpress', 'https://github.com/npr/npr-one-backend-proxy-php', 'https://github.com/npr/pmp-wordpress-plugin', 'https://github.com/npr/pmp-php-sdk', 'https://github.com/npr/pmp-drupal-plugin', 'https://github.com/npr/zaphpa', 'https://github.com/npr/silverstripe-opauth', 'https://github.com/npr/Slim']\n",
    "\n"
   ]
  },
  {
   "cell_type": "code",
   "execution_count": 95,
   "metadata": {},
   "outputs": [
    {
     "data": {
      "text/plain": [
       "97"
      ]
     },
     "execution_count": 95,
     "metadata": {},
     "output_type": "execute_result"
    }
   ],
   "source": [
    "urlcount = len(url)+len(url2)+len(url3)+len(url4)+len(url5)+len(url6)+len(url7)+len(url8)+len(url9)\n",
    "\n",
    "urlcount"
   ]
  },
  {
   "cell_type": "code",
   "execution_count": 96,
   "metadata": {},
   "outputs": [],
   "source": [
    "urls = (url)+(url2)+(url3)+(url4)+(url5)+(url6)+(url7)+(url8)+(url9)"
   ]
  },
  {
   "cell_type": "markdown",
   "metadata": {},
   "source": [
    "# PREP"
   ]
  },
  {
   "cell_type": "code",
   "execution_count": 60,
   "metadata": {},
   "outputs": [],
   "source": [
    "gitMDs = pd.read_json('pages.json')"
   ]
  },
  {
   "cell_type": "code",
   "execution_count": 66,
   "metadata": {},
   "outputs": [],
   "source": [
    "gitMDs['readme'] = gitMDs['body'].apply(basic_body_clean).apply(tokenize).apply(remove_stopwords).apply(lemmatize)\n",
    "gitMDs['language'] = gitMDs['top_code'].apply(basic_code_clean).apply(tokenize).apply(remove_stopwords)\n",
    "gitMDs[['language', 'percentage']] = gitMDs['language'].str.split(\" \",expand=True)\n",
    "gitMDs['percentage'] = pd.to_numeric(gitMDs['percentage'])\n",
    "\n",
    "gitMDs.drop(columns = ['body', 'top_code'], inplace = True)"
   ]
  },
  {
   "cell_type": "code",
   "execution_count": 67,
   "metadata": {
    "scrolled": false
   },
   "outputs": [
    {
     "data": {
      "text/html": [
       "<div>\n",
       "<style scoped>\n",
       "    .dataframe tbody tr th:only-of-type {\n",
       "        vertical-align: middle;\n",
       "    }\n",
       "\n",
       "    .dataframe tbody tr th {\n",
       "        vertical-align: top;\n",
       "    }\n",
       "\n",
       "    .dataframe thead th {\n",
       "        text-align: right;\n",
       "    }\n",
       "</style>\n",
       "<table border=\"1\" class=\"dataframe\">\n",
       "  <thead>\n",
       "    <tr style=\"text-align: right;\">\n",
       "      <th></th>\n",
       "      <th>readme</th>\n",
       "      <th>language</th>\n",
       "      <th>percentage</th>\n",
       "    </tr>\n",
       "  </thead>\n",
       "  <tbody>\n",
       "    <tr>\n",
       "      <th>0</th>\n",
       "      <td>pewanalytics pewanalytics python package provi...</td>\n",
       "      <td>python</td>\n",
       "      <td>99.5</td>\n",
       "    </tr>\n",
       "    <tr>\n",
       "      <th>1</th>\n",
       "      <td>scuole ' italian school public school 3 setup ...</td>\n",
       "      <td>python</td>\n",
       "      <td>72.3</td>\n",
       "    </tr>\n",
       "    <tr>\n",
       "      <th>2</th>\n",
       "      <td>thermometer</td>\n",
       "      <td>python</td>\n",
       "      <td>89.2</td>\n",
       "    </tr>\n",
       "    <tr>\n",
       "      <th>3</th>\n",
       "      <td>wall query salesforce opportunity information ...</td>\n",
       "      <td>python</td>\n",
       "      <td>98.6</td>\n",
       "    </tr>\n",
       "    <tr>\n",
       "      <th>4</th>\n",
       "      <td>geoip2 super simple nodejsbased deployment get...</td>\n",
       "      <td>javascript</td>\n",
       "      <td>93.2</td>\n",
       "    </tr>\n",
       "    <tr>\n",
       "      <th>...</th>\n",
       "      <td>...</td>\n",
       "      <td>...</td>\n",
       "      <td>...</td>\n",
       "    </tr>\n",
       "    <tr>\n",
       "      <th>95</th>\n",
       "      <td>pmp php sdk php api client public medium platf...</td>\n",
       "      <td>php</td>\n",
       "      <td>99.7</td>\n",
       "    </tr>\n",
       "    <tr>\n",
       "      <th>96</th>\n",
       "      <td>installing pmpapi module download module would...</td>\n",
       "      <td>php</td>\n",
       "      <td>100.0</td>\n",
       "    </tr>\n",
       "    <tr>\n",
       "      <th>97</th>\n",
       "      <td>zaphpa installing zaphpa composer add zaphpaza...</td>\n",
       "      <td>php</td>\n",
       "      <td>100.0</td>\n",
       "    </tr>\n",
       "    <tr>\n",
       "      <th>98</th>\n",
       "      <td>module depends opauth no longer maintained ' r...</td>\n",
       "      <td>php</td>\n",
       "      <td>100.0</td>\n",
       "    </tr>\n",
       "    <tr>\n",
       "      <th>99</th>\n",
       "      <td>slim framework slim php microframework help qu...</td>\n",
       "      <td>php</td>\n",
       "      <td>99.9</td>\n",
       "    </tr>\n",
       "  </tbody>\n",
       "</table>\n",
       "<p>100 rows × 3 columns</p>\n",
       "</div>"
      ],
      "text/plain": [
       "                                               readme    language  percentage\n",
       "0   pewanalytics pewanalytics python package provi...      python        99.5\n",
       "1   scuole ' italian school public school 3 setup ...      python        72.3\n",
       "2                                         thermometer      python        89.2\n",
       "3   wall query salesforce opportunity information ...      python        98.6\n",
       "4   geoip2 super simple nodejsbased deployment get...  javascript        93.2\n",
       "..                                                ...         ...         ...\n",
       "95  pmp php sdk php api client public medium platf...         php        99.7\n",
       "96  installing pmpapi module download module would...         php       100.0\n",
       "97  zaphpa installing zaphpa composer add zaphpaza...         php       100.0\n",
       "98  module depends opauth no longer maintained ' r...         php       100.0\n",
       "99  slim framework slim php microframework help qu...         php        99.9\n",
       "\n",
       "[100 rows x 3 columns]"
      ]
     },
     "execution_count": 67,
     "metadata": {},
     "output_type": "execute_result"
    }
   ],
   "source": [
    "gitMDs"
   ]
  },
  {
   "cell_type": "code",
   "execution_count": 6,
   "metadata": {},
   "outputs": [],
   "source": [
    "from sklearn.model_selection import train_test_split\n",
    "\n",
    "train_validate, test = train_test_split(gitMDs[['language', 'readme']], \n",
    "                                        stratify=gitMDs.language, \n",
    "                                        test_size=.2)\n",
    "\n",
    "train, validate = train_test_split(train_validate, \n",
    "                                   stratify=train_validate.language, \n",
    "                                   test_size=.25)"
   ]
  },
  {
   "cell_type": "code",
   "execution_count": 147,
   "metadata": {
    "scrolled": true
   },
   "outputs": [
    {
     "data": {
      "text/html": [
       "<div>\n",
       "<style scoped>\n",
       "    .dataframe tbody tr th:only-of-type {\n",
       "        vertical-align: middle;\n",
       "    }\n",
       "\n",
       "    .dataframe tbody tr th {\n",
       "        vertical-align: top;\n",
       "    }\n",
       "\n",
       "    .dataframe thead th {\n",
       "        text-align: right;\n",
       "    }\n",
       "</style>\n",
       "<table border=\"1\" class=\"dataframe\">\n",
       "  <thead>\n",
       "    <tr style=\"text-align: right;\">\n",
       "      <th></th>\n",
       "      <th>language</th>\n",
       "      <th>readme</th>\n",
       "    </tr>\n",
       "  </thead>\n",
       "  <tbody>\n",
       "    <tr>\n",
       "      <th>61</th>\n",
       "      <td>javascript</td>\n",
       "      <td>txlege camera status quick script attempt conf...</td>\n",
       "    </tr>\n",
       "    <tr>\n",
       "      <th>43</th>\n",
       "      <td>javascript</td>\n",
       "      <td>price admission price admission series publish...</td>\n",
       "    </tr>\n",
       "    <tr>\n",
       "      <th>66</th>\n",
       "      <td>html</td>\n",
       "      <td>ikea minisite vox creative ikea minisite 2020 ...</td>\n",
       "    </tr>\n",
       "    <tr>\n",
       "      <th>62</th>\n",
       "      <td>javascript</td>\n",
       "      <td>postcss amp postcss plugin convert cs accordin...</td>\n",
       "    </tr>\n",
       "    <tr>\n",
       "      <th>29</th>\n",
       "      <td>ruby</td>\n",
       "      <td>jsonprinter allows convert arbitrarily nested ...</td>\n",
       "    </tr>\n",
       "  </tbody>\n",
       "</table>\n",
       "</div>"
      ],
      "text/plain": [
       "      language                                             readme\n",
       "61  javascript  txlege camera status quick script attempt conf...\n",
       "43  javascript  price admission price admission series publish...\n",
       "66        html  ikea minisite vox creative ikea minisite 2020 ...\n",
       "62  javascript  postcss amp postcss plugin convert cs accordin...\n",
       "29        ruby  jsonprinter allows convert arbitrarily nested ..."
      ]
     },
     "execution_count": 147,
     "metadata": {},
     "output_type": "execute_result"
    }
   ],
   "source": [
    "train.head()"
   ]
  },
  {
   "cell_type": "code",
   "execution_count": 8,
   "metadata": {},
   "outputs": [
    {
     "data": {
      "text/html": [
       "<div>\n",
       "<style scoped>\n",
       "    .dataframe tbody tr th:only-of-type {\n",
       "        vertical-align: middle;\n",
       "    }\n",
       "\n",
       "    .dataframe tbody tr th {\n",
       "        vertical-align: top;\n",
       "    }\n",
       "\n",
       "    .dataframe thead th {\n",
       "        text-align: right;\n",
       "    }\n",
       "</style>\n",
       "<table border=\"1\" class=\"dataframe\">\n",
       "  <thead>\n",
       "    <tr style=\"text-align: right;\">\n",
       "      <th></th>\n",
       "      <th>language</th>\n",
       "      <th>readme</th>\n",
       "    </tr>\n",
       "  </thead>\n",
       "  <tbody>\n",
       "    <tr>\n",
       "      <th>3</th>\n",
       "      <td>python</td>\n",
       "      <td>wall query salesforce opportunity information ...</td>\n",
       "    </tr>\n",
       "    <tr>\n",
       "      <th>4</th>\n",
       "      <td>javascript</td>\n",
       "      <td>geoip2 super simple nodejsbased deployment get...</td>\n",
       "    </tr>\n",
       "    <tr>\n",
       "      <th>90</th>\n",
       "      <td>javascript</td>\n",
       "      <td>squairejs not map table strong visual cue quic...</td>\n",
       "    </tr>\n",
       "    <tr>\n",
       "      <th>92</th>\n",
       "      <td>php</td>\n",
       "      <td>npr story api collection tool publishing npr '...</td>\n",
       "    </tr>\n",
       "    <tr>\n",
       "      <th>59</th>\n",
       "      <td>python</td>\n",
       "      <td>django admin locking prevents user overwriting...</td>\n",
       "    </tr>\n",
       "  </tbody>\n",
       "</table>\n",
       "</div>"
      ],
      "text/plain": [
       "      language                                             readme\n",
       "3       python  wall query salesforce opportunity information ...\n",
       "4   javascript  geoip2 super simple nodejsbased deployment get...\n",
       "90  javascript  squairejs not map table strong visual cue quic...\n",
       "92         php  npr story api collection tool publishing npr '...\n",
       "59      python  django admin locking prevents user overwriting..."
      ]
     },
     "execution_count": 8,
     "metadata": {},
     "output_type": "execute_result"
    }
   ],
   "source": [
    "validate.head()"
   ]
  },
  {
   "cell_type": "markdown",
   "metadata": {},
   "source": [
    "# EXPLORE"
   ]
  },
  {
   "cell_type": "code",
   "execution_count": 144,
   "metadata": {},
   "outputs": [],
   "source": [
    "# function to convert df rows to list of words\n",
    "def rows_to_lists(text):\n",
    "    words = re.sub(r'[^\\w\\s]', '', text).split()\n",
    "    return words"
   ]
  },
  {
   "cell_type": "code",
   "execution_count": 145,
   "metadata": {},
   "outputs": [],
   "source": [
    "# separating languages and converting rows to lists (1 list per language)\n",
    "javascript = rows_to_lists(' '.join(gitMDs[gitMDs.language == 'javascript'].readme))\n",
    "php = rows_to_lists(' '.join(gitMDs[gitMDs.language == 'php'].readme))\n",
    "html = rows_to_lists(' '.join(gitMDs[gitMDs.language == 'html'].readme))\n",
    "ruby = rows_to_lists(' '.join(gitMDs[gitMDs.language == 'ruby'].readme))\n",
    "python = rows_to_lists(' '.join(gitMDs[gitMDs.language == 'python'].readme))"
   ]
  },
  {
   "cell_type": "markdown",
   "metadata": {},
   "source": [
    "## create bigrams"
   ]
  },
  {
   "cell_type": "code",
   "execution_count": 150,
   "metadata": {},
   "outputs": [
    {
     "data": {
      "text/plain": [
       "(npm, run)               22\n",
       "(npm, install)           10\n",
       "(texas, tribune)          8\n",
       "(run, datafetch)          7\n",
       "(development, server)     6\n",
       "(code, base)              6\n",
       "(react, app)              6\n",
       "(pinpoint, editor)        6\n",
       "(google, doc)             5\n",
       "(run, build)              5\n",
       "dtype: int64"
      ]
     },
     "execution_count": 150,
     "metadata": {},
     "output_type": "execute_result"
    }
   ],
   "source": [
    "# getting value counts of bigrams\n",
    "# ie. how often did they appear in data\n",
    "js_bigrams = pd.Series(nltk.ngrams(javascript, 2)).value_counts()\n",
    "\n",
    "# creating top 10 series of most common spam bigrams\n",
    "top_10_js_bigrams = js_bigrams.head(10)\n",
    "\n",
    "# checking top 10\n",
    "top_10_js_bigrams"
   ]
  },
  {
   "cell_type": "code",
   "execution_count": 156,
   "metadata": {},
   "outputs": [
    {
     "data": {
      "image/png": "[encoded data removed]",
      "text/plain": [
       "<Figure size 720x432 with 1 Axes>"
      ]
     },
     "metadata": {
      "needs_background": "light"
     },
     "output_type": "display_data"
    }
   ],
   "source": [
    "top_10_js_bigrams.sort_values().plot.barh(color='pink', width=.9, figsize=(10, 6))\n",
    "\n",
    "plt.title('10 Most frequently occuring javascript bigrams')\n",
    "plt.ylabel('Bigram')\n",
    "plt.xlabel('# Occurances')\n",
    "\n",
    "\n",
    "ticks, _ = plt.yticks()\n",
    "labels = top_10_js_bigrams.reset_index()['index'].apply(lambda t: t[0] + ' ' + t[1])\n",
    "_ = plt.yticks(ticks, labels)"
   ]
  },
  {
   "cell_type": "markdown",
   "metadata": {},
   "source": [
    "# bigram wordcloud"
   ]
  },
  {
   "cell_type": "code",
   "execution_count": 151,
   "metadata": {},
   "outputs": [
    {
     "data": {
      "text/plain": [
       "(-0.5, 799.5, 399.5, -0.5)"
      ]
     },
     "execution_count": 151,
     "metadata": {},
     "output_type": "execute_result"
    },
    {
     "data": {
      "image/png": "[encoded data removed]",
      "text/plain": [
       "<Figure size 576x288 with 1 Axes>"
      ]
     },
     "metadata": {
      "needs_background": "light"
     },
     "output_type": "display_data"
    }
   ],
   "source": [
    "data = {k[0] + ' ' + k[1]: v for k, v in top_10_js_bigrams.to_dict().items()}\n",
    "\n",
    "img = WordCloud(background_color='white', width=800, height=400).generate_from_frequencies(data)\n",
    "plt.figure(figsize=(8, 4))\n",
    "plt.imshow(img)\n",
    "plt.axis('off')"
   ]
  },
  {
   "cell_type": "markdown",
   "metadata": {},
   "source": [
    "# word cloud of single words"
   ]
  },
  {
   "cell_type": "code",
   "execution_count": 152,
   "metadata": {},
   "outputs": [],
   "source": [
    "# how often did each word appear in data?\n",
    "js_words = pd.Series(nltk.ngrams(javascript, 1)).value_counts()\n",
    "\n",
    "# top 10\n",
    "top_10_js_words = js_words.head(10)"
   ]
  },
  {
   "cell_type": "code",
   "execution_count": 153,
   "metadata": {},
   "outputs": [
    {
     "data": {
      "text/plain": [
       "(-0.5, 799.5, 399.5, -0.5)"
      ]
     },
     "execution_count": 153,
     "metadata": {},
     "output_type": "execute_result"
    },
    {
     "data": {
      "image/png": "[encoded data removed]",
      "text/plain": [
       "<Figure size 576x288 with 1 Axes>"
      ]
     },
     "metadata": {
      "needs_background": "light"
     },
     "output_type": "display_data"
    }
   ],
   "source": [
    "data = {k[0]: v for k, v in top_10_js_words.to_dict().items()}\n",
    "img = WordCloud(background_color='white', width=800, height=400).generate_from_frequencies(data)\n",
    "plt.figure(figsize=(8, 4))\n",
    "plt.imshow(img)\n",
    "plt.axis('off')"
   ]
  },
  {
   "cell_type": "code",
   "execution_count": 157,
   "metadata": {},
   "outputs": [
    {
     "data": {
      "image/png": "[encoded data removed]",
      "text/plain": [
       "<Figure size 720x432 with 1 Axes>"
      ]
     },
     "metadata": {
      "needs_background": "light"
     },
     "output_type": "display_data"
    }
   ],
   "source": [
    "top_10_js_words.sort_values().plot.barh(color='pink', width=.9, figsize=(10, 6))\n",
    "\n",
    "plt.title('10 Most frequently occuring javascript bigrams')\n",
    "plt.ylabel('Bigram')\n",
    "plt.xlabel('# Occurances')\n",
    "\n",
    "\n",
    "ticks, _ = plt.yticks()\n",
    "labels = top_10_js_bigrams.reset_index()['index'].apply(lambda t: t[0] + ' ' + t[1])\n",
    "_ = plt.yticks(ticks, labels)"
   ]
  },
  {
   "cell_type": "markdown",
   "metadata": {},
   "source": [
    "# MODEL"
   ]
  },
  {
   "cell_type": "markdown",
   "metadata": {},
   "source": [
    "# bag of words"
   ]
  },
  {
   "cell_type": "code",
   "execution_count": 117,
   "metadata": {},
   "outputs": [
    {
     "data": {
      "text/plain": [
       "['add',\n",
       " 'change',\n",
       " 'class',\n",
       " 'code',\n",
       " 'configuration',\n",
       " 'content',\n",
       " 'create',\n",
       " 'data',\n",
       " 'default',\n",
       " 'example',\n",
       " 'file',\n",
       " 'following',\n",
       " 'include',\n",
       " 'information',\n",
       " 'install',\n",
       " 'installation',\n",
       " 'license',\n",
       " 'like',\n",
       " 'look',\n",
       " 'make',\n",
       " 'need',\n",
       " 'new',\n",
       " 'project',\n",
       " 'pull',\n",
       " 'required',\n",
       " 'return',\n",
       " 'run',\n",
       " 'set',\n",
       " 'setting',\n",
       " 'sure',\n",
       " 'time',\n",
       " 'url',\n",
       " 'usage',\n",
       " 'use',\n",
       " 'used',\n",
       " 'user',\n",
       " 'using',\n",
       " 'value',\n",
       " 'version',\n",
       " 'want',\n",
       " 'work']"
      ]
     },
     "execution_count": 117,
     "metadata": {},
     "output_type": "execute_result"
    }
   ],
   "source": [
    "# creating vectorizer\n",
    "vectorizer = CountVectorizer(stop_words='english', \n",
    "                             min_df=20, \n",
    "                             ngram_range=(1,2), \n",
    "                             binary=True)\n",
    "\n",
    "# Learn vocabulary in sentences. \n",
    "vectorizer.fit(train.readme)\n",
    "\n",
    "# Get dictionary. \n",
    "vectorizer.get_feature_names()"
   ]
  },
  {
   "cell_type": "code",
   "execution_count": 118,
   "metadata": {},
   "outputs": [],
   "source": [
    "# Transform each sentences in vector space.\n",
    "bow = vectorizer.transform(train.readme)"
   ]
  },
  {
   "cell_type": "code",
   "execution_count": 119,
   "metadata": {},
   "outputs": [],
   "source": [
    "X_bow = bow"
   ]
  },
  {
   "cell_type": "code",
   "execution_count": 120,
   "metadata": {},
   "outputs": [
    {
     "data": {
      "text/plain": [
       "<60x41 sparse matrix of type '<class 'numpy.float64'>'\n",
       "\twith 1093 stored elements in Compressed Sparse Row format>"
      ]
     },
     "execution_count": 120,
     "metadata": {},
     "output_type": "execute_result"
    }
   ],
   "source": [
    "tfidf = TfidfVectorizer(stop_words='english', min_df=20, \n",
    "                             ngram_range=(1,2), \n",
    "                             binary=True)\n",
    "\n",
    "tfidf_sparse_matrix = tfidf.fit_transform(train.readme)\n",
    "tfidf_sparse_matrix"
   ]
  },
  {
   "cell_type": "code",
   "execution_count": 121,
   "metadata": {},
   "outputs": [],
   "source": [
    "X_tfidf = tfidf_sparse_matrix"
   ]
  },
  {
   "cell_type": "code",
   "execution_count": 122,
   "metadata": {},
   "outputs": [
    {
     "data": {
      "text/plain": [
       "<60x41 sparse matrix of type '<class 'numpy.float64'>'\n",
       "\twith 1093 stored elements in Compressed Sparse Row format>"
      ]
     },
     "execution_count": 122,
     "metadata": {},
     "output_type": "execute_result"
    }
   ],
   "source": [
    "# create our y dataset\n",
    "y = train['language']\n",
    "\n",
    "X_bow\n",
    "X_tfidf"
   ]
  },
  {
   "cell_type": "code",
   "execution_count": 123,
   "metadata": {},
   "outputs": [],
   "source": [
    "from sklearn.linear_model import LogisticRegression\n",
    "\n",
    "lm = LogisticRegression().fit(X_bow, y)\n",
    "\n",
    "train['predicted'] = lm.predict(X_bow)"
   ]
  },
  {
   "cell_type": "code",
   "execution_count": 124,
   "metadata": {},
   "outputs": [
    {
     "name": "stdout",
     "output_type": "stream",
     "text": [
      "              precision    recall  f1-score   support\n",
      "\n",
      "        html       1.00      0.92      0.96        12\n",
      "  javascript       1.00      0.91      0.95        11\n",
      "         php       1.00      1.00      1.00        12\n",
      "      python       0.88      1.00      0.93        14\n",
      "        ruby       1.00      1.00      1.00        11\n",
      "\n",
      "    accuracy                           0.97        60\n",
      "   macro avg       0.97      0.97      0.97        60\n",
      "weighted avg       0.97      0.97      0.97        60\n",
      "\n"
     ]
    }
   ],
   "source": [
    "from sklearn.metrics import classification_report\n",
    "\n",
    "print(classification_report(train.language, train.predicted))"
   ]
  },
  {
   "cell_type": "code",
   "execution_count": 125,
   "metadata": {
    "scrolled": true
   },
   "outputs": [],
   "source": [
    "# Transform each sentences in vector space.\n",
    "v_bow = vectorizer.transform(validate.readme)\n",
    "\n",
    "validate['predicted'] = lm.predict(v_bow)"
   ]
  },
  {
   "cell_type": "code",
   "execution_count": 126,
   "metadata": {},
   "outputs": [
    {
     "data": {
      "text/plain": [
       "(20, 3)"
      ]
     },
     "execution_count": 126,
     "metadata": {},
     "output_type": "execute_result"
    }
   ],
   "source": [
    "validate.shape"
   ]
  },
  {
   "cell_type": "code",
   "execution_count": 127,
   "metadata": {},
   "outputs": [
    {
     "name": "stdout",
     "output_type": "stream",
     "text": [
      "              precision    recall  f1-score   support\n",
      "\n",
      "        html       0.33      0.50      0.40         4\n",
      "  javascript       0.25      0.25      0.25         4\n",
      "         php       0.50      0.50      0.50         4\n",
      "      python       0.00      0.00      0.00         4\n",
      "        ruby       0.50      0.25      0.33         4\n",
      "\n",
      "    accuracy                           0.30        20\n",
      "   macro avg       0.32      0.30      0.30        20\n",
      "weighted avg       0.32      0.30      0.30        20\n",
      "\n"
     ]
    }
   ],
   "source": [
    "print(classification_report(validate.language, validate.predicted))"
   ]
  },
  {
   "cell_type": "markdown",
   "metadata": {},
   "source": [
    "# tfidf"
   ]
  },
  {
   "cell_type": "code",
   "execution_count": null,
   "metadata": {},
   "outputs": [],
   "source": []
  }
 ],
 "metadata": {
  "kernelspec": {
   "display_name": "Python 3",
   "language": "python",
   "name": "python3"
  },
  "language_info": {
   "codemirror_mode": {
    "name": "ipython",
    "version": 3
   },
   "file_extension": ".py",
   "mimetype": "text/x-python",
   "name": "python",
   "nbconvert_exporter": "python",
   "pygments_lexer": "ipython3",
   "version": "3.7.6"
  }
 },
 "nbformat": 4,
 "nbformat_minor": 4
}
