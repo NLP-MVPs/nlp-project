{
 "cells": [
  {
   "cell_type": "code",
   "execution_count": 156,
   "metadata": {},
   "outputs": [],
   "source": [
    "import pandas as pd\n",
    "import re\n",
    "import numpy as np\n",
    "import nltk\n",
    "\n",
    "from prepare import basic_body_clean, tokenize, remove_stopwords, lemmatize, basic_code_clean\n",
    "from sklearn.model_selection import train_test_split\n",
    "from sklearn.linear_model import LogisticRegression\n",
    "from sklearn.metrics import classification_report\n",
    "from sklearn.feature_extraction.text import CountVectorizer\n",
    "from sklearn.feature_extraction.text import TfidfVectorizer\n",
    "\n",
    "import warnings\n",
    "warnings.filterwarnings(\"ignore\")"
   ]
  },
  {
   "cell_type": "markdown",
   "metadata": {},
   "source": [
    "# ACQUIRE, PREP AND SPLIT DATA"
   ]
  },
  {
   "cell_type": "code",
   "execution_count": 157,
   "metadata": {},
   "outputs": [],
   "source": [
    "gitMDs = pd.read_json('gitMDsv2.json')\n",
    "\n",
    "gitMDs['readme'] = gitMDs['body'].apply(basic_body_clean).apply(tokenize).apply(remove_stopwords).apply(lemmatize)\n",
    "gitMDs['language'] = gitMDs['top_code'].apply(basic_code_clean).apply(tokenize).apply(remove_stopwords)\n",
    "gitMDs[['language', 'percentage']] = gitMDs['language'].str.split(\" \",expand=True)\n",
    "gitMDs['percentage'] = pd.to_numeric(gitMDs['percentage'])\n",
    "\n",
    "gitMDs.drop(columns = ['body', 'top_code', 'percentage'], inplace = True)"
   ]
  },
  {
   "cell_type": "code",
   "execution_count": 158,
   "metadata": {},
   "outputs": [
    {
     "data": {
      "text/html": [
       "<div>\n",
       "<style scoped>\n",
       "    .dataframe tbody tr th:only-of-type {\n",
       "        vertical-align: middle;\n",
       "    }\n",
       "\n",
       "    .dataframe tbody tr th {\n",
       "        vertical-align: top;\n",
       "    }\n",
       "\n",
       "    .dataframe thead th {\n",
       "        text-align: right;\n",
       "    }\n",
       "</style>\n",
       "<table border=\"1\" class=\"dataframe\">\n",
       "  <thead>\n",
       "    <tr style=\"text-align: right;\">\n",
       "      <th></th>\n",
       "      <th>readme</th>\n",
       "      <th>language</th>\n",
       "    </tr>\n",
       "  </thead>\n",
       "  <tbody>\n",
       "    <tr>\n",
       "      <th>0</th>\n",
       "      <td>freecodecamporg ' opensource codebase curricul...</td>\n",
       "      <td>javascript</td>\n",
       "    </tr>\n",
       "    <tr>\n",
       "      <th>1</th>\n",
       "      <td>supporting vuejs vuejs mitlicensed open source...</td>\n",
       "      <td>javascript</td>\n",
       "    </tr>\n",
       "    <tr>\n",
       "      <th>2</th>\n",
       "      <td>react react javascript library building user i...</td>\n",
       "      <td>javascript</td>\n",
       "    </tr>\n",
       "    <tr>\n",
       "      <th>3</th>\n",
       "      <td>bootstrap sleek intuitive powerful frontend fr...</td>\n",
       "      <td>javascript</td>\n",
       "    </tr>\n",
       "    <tr>\n",
       "      <th>4</th>\n",
       "      <td>airbnb javascript style guide mostly reasonabl...</td>\n",
       "      <td>javascript</td>\n",
       "    </tr>\n",
       "  </tbody>\n",
       "</table>\n",
       "</div>"
      ],
      "text/plain": [
       "                                              readme    language\n",
       "0  freecodecamporg ' opensource codebase curricul...  javascript\n",
       "1  supporting vuejs vuejs mitlicensed open source...  javascript\n",
       "2  react react javascript library building user i...  javascript\n",
       "3  bootstrap sleek intuitive powerful frontend fr...  javascript\n",
       "4  airbnb javascript style guide mostly reasonabl...  javascript"
      ]
     },
     "execution_count": 158,
     "metadata": {},
     "output_type": "execute_result"
    }
   ],
   "source": [
    "gitMDs.head()"
   ]
  },
  {
   "cell_type": "code",
   "execution_count": 159,
   "metadata": {},
   "outputs": [],
   "source": [
    "train_validate, test = train_test_split(gitMDs[['language', 'readme']], \n",
    "                                        stratify=gitMDs.language, \n",
    "                                        test_size=.2)\n",
    "\n",
    "train, validate = train_test_split(train_validate, \n",
    "                                   stratify=train_validate.language, \n",
    "                                   test_size=.25)"
   ]
  },
  {
   "cell_type": "code",
   "execution_count": 160,
   "metadata": {},
   "outputs": [
    {
     "data": {
      "text/plain": [
       "javascript    54\n",
       "python        54\n",
       "Name: language, dtype: int64"
      ]
     },
     "execution_count": 160,
     "metadata": {},
     "output_type": "execute_result"
    }
   ],
   "source": [
    "train.language.value_counts()"
   ]
  },
  {
   "cell_type": "markdown",
   "metadata": {},
   "source": [
    "# SEPARATING LANGUAGES"
   ]
  },
  {
   "cell_type": "code",
   "execution_count": null,
   "metadata": {},
   "outputs": [],
   "source": [
    "# function to convert df rows to list of words\n",
    "def rows_to_lists(text):\n",
    "    words = re.sub(r'[^\\w\\s]', '', text).split()\n",
    "    return words"
   ]
  },
  {
   "cell_type": "code",
   "execution_count": null,
   "metadata": {},
   "outputs": [],
   "source": [
    "# separating languages and converting rows to lists (1 list per language)\n",
    "javascript = rows_to_lists(' '.join(train[train.language == 'javascript'].readme))\n",
    "python = rows_to_lists(' '.join(train[train.language == 'python'].readme))"
   ]
  },
  {
   "cell_type": "markdown",
   "metadata": {},
   "source": [
    "# BIGRAM FEATURE"
   ]
  },
  {
   "cell_type": "code",
   "execution_count": 12,
   "metadata": {},
   "outputs": [
    {
     "data": {
      "text/plain": [
       "(react, native)        787\n",
       "(io, android)           73\n",
       "(component, react)      56\n",
       "(android, io)           49\n",
       "(npm, install)          38\n",
       "(best, practice)        34\n",
       "(open, source)          34\n",
       "(native, component)     33\n",
       "(back, top)             33\n",
       "(b, 2)                  33\n",
       "dtype: int64"
      ]
     },
     "execution_count": 12,
     "metadata": {},
     "output_type": "execute_result"
    }
   ],
   "source": [
    "# getting value counts of bigrams\n",
    "# ie. how often did they appear in data\n",
    "js_bigrams = pd.Series(nltk.ngrams(javascript, 2)).value_counts()\n",
    "\n",
    "# creating top 10 series of most common spam bigrams\n",
    "top_10_js_bigrams = js_bigrams.head(10)\n",
    "\n",
    "# checking top 10\n",
    "top_10_js_bigrams"
   ]
  },
  {
   "cell_type": "code",
   "execution_count": 13,
   "metadata": {},
   "outputs": [
    {
     "data": {
      "text/plain": [
       "(1, 2)             49\n",
       "(pip, install)     45\n",
       "(2, 3)             45\n",
       "(9, 9)             42\n",
       "(3, 4)             32\n",
       "(false, false)     27\n",
       "(docker, run)      23\n",
       "(true, set)        20\n",
       "(python, 3)        20\n",
       "(pull, request)    20\n",
       "dtype: int64"
      ]
     },
     "execution_count": 13,
     "metadata": {},
     "output_type": "execute_result"
    }
   ],
   "source": [
    "# getting value counts of bigrams\n",
    "# ie. how often did they appear in data\n",
    "py_bigrams = pd.Series(nltk.ngrams(python, 2)).value_counts()\n",
    "\n",
    "# creating top 10 series of most common spam bigrams\n",
    "top_10_py_bigrams = py_bigrams.head(5)\n",
    "\n",
    "# checking top 10\n",
    "top_10_py_bigrams"
   ]
  },
  {
   "cell_type": "code",
   "execution_count": 16,
   "metadata": {},
   "outputs": [
    {
     "data": {
      "text/plain": [
       "0                     (poetry, dependency)\n",
       "1                 (dependency, management)\n",
       "2                     (management, python)\n",
       "3                         (python, poetry)\n",
       "4                           (poetry, help)\n",
       "                       ...                \n",
       "33062                    (fzaninotto, php)\n",
       "33063                         (php, faker)\n",
       "33064                  (faker, distribute)\n",
       "33065               (distribute, buildout)\n",
       "33066    (buildout, modernpackagetemplate)\n",
       "Length: 33067, dtype: object"
      ]
     },
     "execution_count": 16,
     "metadata": {},
     "output_type": "execute_result"
    }
   ],
   "source": [
    "pd.Series(nltk.ngrams(python, 2))"
   ]
  },
  {
   "cell_type": "code",
   "execution_count": 18,
   "metadata": {},
   "outputs": [
    {
     "data": {
      "text/plain": [
       "[('1', '2'),\n",
       " ('pip', 'install'),\n",
       " ('2', '3'),\n",
       " ('9', '9'),\n",
       " ('3', '4'),\n",
       " ('false', 'false'),\n",
       " ('docker', 'run'),\n",
       " ('true', 'set'),\n",
       " ('python', '3'),\n",
       " ('pull', 'request')]"
      ]
     },
     "execution_count": 18,
     "metadata": {},
     "output_type": "execute_result"
    }
   ],
   "source": [
    "top_10_py_bigrams.index.tolist()"
   ]
  },
  {
   "cell_type": "markdown",
   "metadata": {},
   "source": [
    "# SINGLE WORD FEATURE (JS)"
   ]
  },
  {
   "cell_type": "code",
   "execution_count": 161,
   "metadata": {},
   "outputs": [],
   "source": [
    "# how often did each word appear in data?\n",
    "js_words = pd.Series(nltk.ngrams(javascript, 1)).value_counts()\n",
    "\n",
    "top_5_js_words = js_words.head(5)\n",
    "\n",
    "t5jsl = top_5_js_words.index.tolist()"
   ]
  },
  {
   "cell_type": "code",
   "execution_count": 162,
   "metadata": {},
   "outputs": [
    {
     "data": {
      "text/plain": [
       "['react', 'native', 'javascript', '9', 'component']"
      ]
     },
     "execution_count": 162,
     "metadata": {},
     "output_type": "execute_result"
    }
   ],
   "source": [
    "t5jsreduced = []\n",
    "\n",
    "for x in t5jsl:\n",
    "    t5jsreduced.append(x[0])\n",
    "    \n",
    "t5jsreduced"
   ]
  },
  {
   "cell_type": "code",
   "execution_count": 163,
   "metadata": {
    "scrolled": false
   },
   "outputs": [
    {
     "data": {
      "text/html": [
       "<div>\n",
       "<style scoped>\n",
       "    .dataframe tbody tr th:only-of-type {\n",
       "        vertical-align: middle;\n",
       "    }\n",
       "\n",
       "    .dataframe tbody tr th {\n",
       "        vertical-align: top;\n",
       "    }\n",
       "\n",
       "    .dataframe thead th {\n",
       "        text-align: right;\n",
       "    }\n",
       "</style>\n",
       "<table border=\"1\" class=\"dataframe\">\n",
       "  <thead>\n",
       "    <tr style=\"text-align: right;\">\n",
       "      <th></th>\n",
       "      <th>language</th>\n",
       "      <th>readme</th>\n",
       "      <th>has_top5_js_word</th>\n",
       "    </tr>\n",
       "  </thead>\n",
       "  <tbody>\n",
       "    <tr>\n",
       "      <th>90</th>\n",
       "      <td>python</td>\n",
       "      <td>nginxproxy set container running nginx dockerg...</td>\n",
       "      <td>True</td>\n",
       "    </tr>\n",
       "    <tr>\n",
       "      <th>85</th>\n",
       "      <td>javascript</td>\n",
       "      <td>async utility module provides straightforward ...</td>\n",
       "      <td>True</td>\n",
       "    </tr>\n",
       "    <tr>\n",
       "      <th>65</th>\n",
       "      <td>javascript</td>\n",
       "      <td>build next vuejs application confidence using ...</td>\n",
       "      <td>False</td>\n",
       "    </tr>\n",
       "    <tr>\n",
       "      <th>31</th>\n",
       "      <td>javascript</td>\n",
       "      <td>html5 boilerplate html5 boilerplate profession...</td>\n",
       "      <td>True</td>\n",
       "    </tr>\n",
       "    <tr>\n",
       "      <th>68</th>\n",
       "      <td>javascript</td>\n",
       "      <td>api creation made simple secure fast advanced ...</td>\n",
       "      <td>True</td>\n",
       "    </tr>\n",
       "    <tr>\n",
       "      <th>...</th>\n",
       "      <td>...</td>\n",
       "      <td>...</td>\n",
       "      <td>...</td>\n",
       "    </tr>\n",
       "    <tr>\n",
       "      <th>42</th>\n",
       "      <td>javascript</td>\n",
       "      <td>svelte svelte new way build web application ' ...</td>\n",
       "      <td>True</td>\n",
       "    </tr>\n",
       "    <tr>\n",
       "      <th>35</th>\n",
       "      <td>javascript</td>\n",
       "      <td>momentjs javascript date library parsing valid...</td>\n",
       "      <td>True</td>\n",
       "    </tr>\n",
       "    <tr>\n",
       "      <th>22</th>\n",
       "      <td>javascript</td>\n",
       "      <td>socketio feature socketio enables realtime bid...</td>\n",
       "      <td>True</td>\n",
       "    </tr>\n",
       "    <tr>\n",
       "      <th>141</th>\n",
       "      <td>python</td>\n",
       "      <td>tensor2tensor tensor2tensor t2t short library ...</td>\n",
       "      <td>True</td>\n",
       "    </tr>\n",
       "    <tr>\n",
       "      <th>157</th>\n",
       "      <td>python</td>\n",
       "      <td>speedtestcli command line interface testing in...</td>\n",
       "      <td>False</td>\n",
       "    </tr>\n",
       "  </tbody>\n",
       "</table>\n",
       "<p>108 rows × 3 columns</p>\n",
       "</div>"
      ],
      "text/plain": [
       "       language                                             readme  \\\n",
       "90       python  nginxproxy set container running nginx dockerg...   \n",
       "85   javascript  async utility module provides straightforward ...   \n",
       "65   javascript  build next vuejs application confidence using ...   \n",
       "31   javascript  html5 boilerplate html5 boilerplate profession...   \n",
       "68   javascript  api creation made simple secure fast advanced ...   \n",
       "..          ...                                                ...   \n",
       "42   javascript  svelte svelte new way build web application ' ...   \n",
       "35   javascript  momentjs javascript date library parsing valid...   \n",
       "22   javascript  socketio feature socketio enables realtime bid...   \n",
       "141      python  tensor2tensor tensor2tensor t2t short library ...   \n",
       "157      python  speedtestcli command line interface testing in...   \n",
       "\n",
       "     has_top5_js_word  \n",
       "90               True  \n",
       "85               True  \n",
       "65              False  \n",
       "31               True  \n",
       "68               True  \n",
       "..                ...  \n",
       "42               True  \n",
       "35               True  \n",
       "22               True  \n",
       "141              True  \n",
       "157             False  \n",
       "\n",
       "[108 rows x 3 columns]"
      ]
     },
     "execution_count": 163,
     "metadata": {},
     "output_type": "execute_result"
    }
   ],
   "source": [
    "contains = [train['readme'].str.contains(w) for w in t5jsreduced]\n",
    "\n",
    "t5_js_index = train[np.any(contains, axis = 0)].index.tolist()\n",
    "\n",
    "train['has_top_5_js_word'] = train.index.isin(t5_js_index)\n",
    "\n",
    "train"
   ]
  },
  {
   "cell_type": "markdown",
   "metadata": {},
   "source": [
    "# SINGLE WORD FEATURE (PY)"
   ]
  },
  {
   "cell_type": "code",
   "execution_count": 165,
   "metadata": {},
   "outputs": [],
   "source": [
    "# how often did each word appear in data?\n",
    "py_words = pd.Series(nltk.ngrams(python, 1)).value_counts()\n",
    "\n",
    "top_5_py_words = py_words.head(5)\n",
    "\n",
    "t5pyl = top_5_py_words.index.tolist()"
   ]
  },
  {
   "cell_type": "code",
   "execution_count": 167,
   "metadata": {},
   "outputs": [
    {
     "data": {
      "text/plain": [
       "['python', 'use', 'install', 'file', 'not']"
      ]
     },
     "execution_count": 167,
     "metadata": {},
     "output_type": "execute_result"
    }
   ],
   "source": [
    "t5pyreduced = []\n",
    "\n",
    "for x in t5pyl:\n",
    "    t5pyreduced.append(x[0])\n",
    "    \n",
    "t5pyreduced"
   ]
  },
  {
   "cell_type": "code",
   "execution_count": 168,
   "metadata": {},
   "outputs": [
    {
     "data": {
      "text/html": [
       "<div>\n",
       "<style scoped>\n",
       "    .dataframe tbody tr th:only-of-type {\n",
       "        vertical-align: middle;\n",
       "    }\n",
       "\n",
       "    .dataframe tbody tr th {\n",
       "        vertical-align: top;\n",
       "    }\n",
       "\n",
       "    .dataframe thead th {\n",
       "        text-align: right;\n",
       "    }\n",
       "</style>\n",
       "<table border=\"1\" class=\"dataframe\">\n",
       "  <thead>\n",
       "    <tr style=\"text-align: right;\">\n",
       "      <th></th>\n",
       "      <th>language</th>\n",
       "      <th>readme</th>\n",
       "      <th>has_top5_js_word</th>\n",
       "      <th>has_top_5_py_word</th>\n",
       "    </tr>\n",
       "  </thead>\n",
       "  <tbody>\n",
       "    <tr>\n",
       "      <th>90</th>\n",
       "      <td>python</td>\n",
       "      <td>nginxproxy set container running nginx dockerg...</td>\n",
       "      <td>True</td>\n",
       "      <td>True</td>\n",
       "    </tr>\n",
       "    <tr>\n",
       "      <th>85</th>\n",
       "      <td>javascript</td>\n",
       "      <td>async utility module provides straightforward ...</td>\n",
       "      <td>True</td>\n",
       "      <td>True</td>\n",
       "    </tr>\n",
       "    <tr>\n",
       "      <th>65</th>\n",
       "      <td>javascript</td>\n",
       "      <td>build next vuejs application confidence using ...</td>\n",
       "      <td>False</td>\n",
       "      <td>True</td>\n",
       "    </tr>\n",
       "    <tr>\n",
       "      <th>31</th>\n",
       "      <td>javascript</td>\n",
       "      <td>html5 boilerplate html5 boilerplate profession...</td>\n",
       "      <td>True</td>\n",
       "      <td>True</td>\n",
       "    </tr>\n",
       "    <tr>\n",
       "      <th>68</th>\n",
       "      <td>javascript</td>\n",
       "      <td>api creation made simple secure fast advanced ...</td>\n",
       "      <td>True</td>\n",
       "      <td>True</td>\n",
       "    </tr>\n",
       "    <tr>\n",
       "      <th>...</th>\n",
       "      <td>...</td>\n",
       "      <td>...</td>\n",
       "      <td>...</td>\n",
       "      <td>...</td>\n",
       "    </tr>\n",
       "    <tr>\n",
       "      <th>42</th>\n",
       "      <td>javascript</td>\n",
       "      <td>svelte svelte new way build web application ' ...</td>\n",
       "      <td>True</td>\n",
       "      <td>True</td>\n",
       "    </tr>\n",
       "    <tr>\n",
       "      <th>35</th>\n",
       "      <td>javascript</td>\n",
       "      <td>momentjs javascript date library parsing valid...</td>\n",
       "      <td>True</td>\n",
       "      <td>False</td>\n",
       "    </tr>\n",
       "    <tr>\n",
       "      <th>22</th>\n",
       "      <td>javascript</td>\n",
       "      <td>socketio feature socketio enables realtime bid...</td>\n",
       "      <td>True</td>\n",
       "      <td>True</td>\n",
       "    </tr>\n",
       "    <tr>\n",
       "      <th>141</th>\n",
       "      <td>python</td>\n",
       "      <td>tensor2tensor tensor2tensor t2t short library ...</td>\n",
       "      <td>True</td>\n",
       "      <td>True</td>\n",
       "    </tr>\n",
       "    <tr>\n",
       "      <th>157</th>\n",
       "      <td>python</td>\n",
       "      <td>speedtestcli command line interface testing in...</td>\n",
       "      <td>False</td>\n",
       "      <td>True</td>\n",
       "    </tr>\n",
       "  </tbody>\n",
       "</table>\n",
       "<p>108 rows × 4 columns</p>\n",
       "</div>"
      ],
      "text/plain": [
       "       language                                             readme  \\\n",
       "90       python  nginxproxy set container running nginx dockerg...   \n",
       "85   javascript  async utility module provides straightforward ...   \n",
       "65   javascript  build next vuejs application confidence using ...   \n",
       "31   javascript  html5 boilerplate html5 boilerplate profession...   \n",
       "68   javascript  api creation made simple secure fast advanced ...   \n",
       "..          ...                                                ...   \n",
       "42   javascript  svelte svelte new way build web application ' ...   \n",
       "35   javascript  momentjs javascript date library parsing valid...   \n",
       "22   javascript  socketio feature socketio enables realtime bid...   \n",
       "141      python  tensor2tensor tensor2tensor t2t short library ...   \n",
       "157      python  speedtestcli command line interface testing in...   \n",
       "\n",
       "     has_top5_js_word  has_top_5_py_word  \n",
       "90               True               True  \n",
       "85               True               True  \n",
       "65              False               True  \n",
       "31               True               True  \n",
       "68               True               True  \n",
       "..                ...                ...  \n",
       "42               True               True  \n",
       "35               True              False  \n",
       "22               True               True  \n",
       "141              True               True  \n",
       "157             False               True  \n",
       "\n",
       "[108 rows x 4 columns]"
      ]
     },
     "execution_count": 168,
     "metadata": {},
     "output_type": "execute_result"
    }
   ],
   "source": [
    "contains = [train['readme'].str.contains(w) for w in t5pyreduced]\n",
    "\n",
    "t5_py_index = train[np.any(contains, axis = 0)].index.tolist()\n",
    "\n",
    "train['has_top_5_py_word'] = train.index.isin(t5_py_index)\n",
    "\n",
    "train"
   ]
  },
  {
   "cell_type": "markdown",
   "metadata": {},
   "source": [
    "# SINGLE WORD MODEL"
   ]
  },
  {
   "cell_type": "code",
   "execution_count": 173,
   "metadata": {},
   "outputs": [],
   "source": [
    "y_train = train['language']\n",
    "\n",
    "X_train = train[['has_top5_js_word', 'has_top_5_py_word']]"
   ]
  },
  {
   "cell_type": "code",
   "execution_count": 174,
   "metadata": {},
   "outputs": [
    {
     "data": {
      "text/plain": [
       "LogisticRegression(C=1.0, class_weight=None, dual=False, fit_intercept=True,\n",
       "                   intercept_scaling=1, l1_ratio=None, max_iter=100,\n",
       "                   multi_class='auto', n_jobs=None, penalty='l2',\n",
       "                   random_state=123, solver='lbfgs', tol=0.0001, verbose=0,\n",
       "                   warm_start=False)"
      ]
     },
     "execution_count": 174,
     "metadata": {},
     "output_type": "execute_result"
    }
   ],
   "source": [
    "# from sklearn.linear_model import LogisticRegression\n",
    "logit = LogisticRegression(random_state=123)\n",
    "\n",
    "logit.fit(X_train, y_train)"
   ]
  },
  {
   "cell_type": "code",
   "execution_count": 176,
   "metadata": {},
   "outputs": [],
   "source": [
    "train['predicted'] = logit.predict(X_train)"
   ]
  },
  {
   "cell_type": "code",
   "execution_count": 177,
   "metadata": {},
   "outputs": [
    {
     "name": "stdout",
     "output_type": "stream",
     "text": [
      "              precision    recall  f1-score   support\n",
      "\n",
      "  javascript       0.56      0.83      0.67        54\n",
      "      python       0.67      0.33      0.44        54\n",
      "\n",
      "    accuracy                           0.58       108\n",
      "   macro avg       0.61      0.58      0.56       108\n",
      "weighted avg       0.61      0.58      0.56       108\n",
      "\n"
     ]
    }
   ],
   "source": [
    "print(classification_report(train.language, train.predicted))"
   ]
  },
  {
   "cell_type": "markdown",
   "metadata": {},
   "source": [
    "# BASELINE"
   ]
  },
  {
   "cell_type": "code",
   "execution_count": 25,
   "metadata": {},
   "outputs": [
    {
     "name": "stdout",
     "output_type": "stream",
     "text": [
      "              precision    recall  f1-score   support\n",
      "\n",
      "  javascript       0.00      0.00      0.00        54\n",
      "      python       0.50      1.00      0.67        54\n",
      "\n",
      "    accuracy                           0.50       108\n",
      "   macro avg       0.25      0.50      0.33       108\n",
      "weighted avg       0.25      0.50      0.33       108\n",
      "\n"
     ]
    }
   ],
   "source": [
    "train['baseline_prediction'] = 'python'\n",
    "\n",
    "print(classification_report(train.language, train.baseline_prediction))"
   ]
  },
  {
   "cell_type": "markdown",
   "metadata": {},
   "source": [
    "# BAG OF WORDS\n",
    "***"
   ]
  },
  {
   "cell_type": "markdown",
   "metadata": {},
   "source": [
    "## TRAIN"
   ]
  },
  {
   "cell_type": "code",
   "execution_count": null,
   "metadata": {},
   "outputs": [],
   "source": [
    "# creating vectorizer\n",
    "vectorizer = CountVectorizer(stop_words='english', \n",
    "                             min_df=20, \n",
    "                             ngram_range=(1,2), \n",
    "                             binary=True)\n",
    "\n",
    "# Learn vocabulary in sentences. \n",
    "vectorizer.fit(train.readme)\n",
    "\n",
    "# Get dictionary. \n",
    "vectorizer.get_feature_names()\n",
    "\n",
    "# Transform each sentences in vector space.\n",
    "bow = vectorizer.transform(train.readme)\n",
    "\n",
    "X_bow = bow"
   ]
  },
  {
   "cell_type": "code",
   "execution_count": 30,
   "metadata": {},
   "outputs": [],
   "source": [
    "# create our y dataset\n",
    "y = train['language']\n",
    "\n",
    "lm = LogisticRegression().fit(X_bow, y)\n",
    "\n",
    "train['predicted'] = lm.predict(X_bow)"
   ]
  },
  {
   "cell_type": "code",
   "execution_count": 31,
   "metadata": {
    "scrolled": true
   },
   "outputs": [
    {
     "name": "stdout",
     "output_type": "stream",
     "text": [
      "              precision    recall  f1-score   support\n",
      "\n",
      "  javascript       1.00      1.00      1.00        54\n",
      "      python       1.00      1.00      1.00        54\n",
      "\n",
      "    accuracy                           1.00       108\n",
      "   macro avg       1.00      1.00      1.00       108\n",
      "weighted avg       1.00      1.00      1.00       108\n",
      "\n"
     ]
    }
   ],
   "source": [
    "print(classification_report(train.language, train.predicted))"
   ]
  },
  {
   "cell_type": "markdown",
   "metadata": {},
   "source": [
    "## VALIDATE"
   ]
  },
  {
   "cell_type": "code",
   "execution_count": 34,
   "metadata": {},
   "outputs": [
    {
     "name": "stdout",
     "output_type": "stream",
     "text": [
      "              precision    recall  f1-score   support\n",
      "\n",
      "  javascript       0.88      0.83      0.86        18\n",
      "      python       0.84      0.89      0.86        18\n",
      "\n",
      "    accuracy                           0.86        36\n",
      "   macro avg       0.86      0.86      0.86        36\n",
      "weighted avg       0.86      0.86      0.86        36\n",
      "\n"
     ]
    }
   ],
   "source": [
    "# Transform each sentences in vector space.\n",
    "v_bow = vectorizer.transform(validate.readme)\n",
    "\n",
    "validate['predicted'] = lm.predict(v_bow)\n",
    "\n",
    "print(classification_report(validate.language, validate.predicted))"
   ]
  },
  {
   "cell_type": "markdown",
   "metadata": {},
   "source": [
    "## TEST"
   ]
  },
  {
   "cell_type": "code",
   "execution_count": 35,
   "metadata": {},
   "outputs": [
    {
     "name": "stdout",
     "output_type": "stream",
     "text": [
      "              precision    recall  f1-score   support\n",
      "\n",
      "  javascript       0.71      0.67      0.69        18\n",
      "      python       0.68      0.72      0.70        18\n",
      "\n",
      "    accuracy                           0.69        36\n",
      "   macro avg       0.70      0.69      0.69        36\n",
      "weighted avg       0.70      0.69      0.69        36\n",
      "\n"
     ]
    }
   ],
   "source": [
    "# Transform each sentences in vector space.\n",
    "v_bow = vectorizer.transform(test.readme)\n",
    "\n",
    "test['predicted'] = lm.predict(v_bow)\n",
    "\n",
    "print(classification_report(test.language, test.predicted))"
   ]
  },
  {
   "cell_type": "markdown",
   "metadata": {},
   "source": [
    "# TFIDF\n",
    "***"
   ]
  },
  {
   "cell_type": "markdown",
   "metadata": {},
   "source": [
    "# TRAIN"
   ]
  },
  {
   "cell_type": "code",
   "execution_count": 38,
   "metadata": {},
   "outputs": [],
   "source": [
    "tfidf = TfidfVectorizer(stop_words='english', min_df = 20,\n",
    "                             ngram_range=(1,2), \n",
    "                             binary=True)\n",
    "\n",
    "tfidf_sparse_matrix = tfidf.fit_transform(train.readme)\n",
    "\n",
    "tfidf.vocabulary_\n",
    "\n",
    "# Transform to document-term matrix\n",
    "vector_spaces = tfidf.transform(train.readme)\n",
    "\n",
    "X_tfidf = tfidf_sparse_matrix"
   ]
  },
  {
   "cell_type": "code",
   "execution_count": 39,
   "metadata": {},
   "outputs": [
    {
     "name": "stdout",
     "output_type": "stream",
     "text": [
      "              precision    recall  f1-score   support\n",
      "\n",
      "  javascript       1.00      0.98      0.99        54\n",
      "      python       0.98      1.00      0.99        54\n",
      "\n",
      "    accuracy                           0.99       108\n",
      "   macro avg       0.99      0.99      0.99       108\n",
      "weighted avg       0.99      0.99      0.99       108\n",
      "\n"
     ]
    }
   ],
   "source": [
    "lm_tfidf = LogisticRegression().fit(X_tfidf, y)\n",
    "\n",
    "train['pred_tfidf'] = lm_tfidf.predict(X_tfidf)\n",
    "\n",
    "print(classification_report(train.language, train.pred_tfidf))"
   ]
  },
  {
   "cell_type": "markdown",
   "metadata": {},
   "source": [
    "# VALIDATE"
   ]
  },
  {
   "cell_type": "code",
   "execution_count": 40,
   "metadata": {},
   "outputs": [
    {
     "name": "stdout",
     "output_type": "stream",
     "text": [
      "              precision    recall  f1-score   support\n",
      "\n",
      "  javascript       0.94      0.83      0.88        18\n",
      "      python       0.85      0.94      0.89        18\n",
      "\n",
      "    accuracy                           0.89        36\n",
      "   macro avg       0.89      0.89      0.89        36\n",
      "weighted avg       0.89      0.89      0.89        36\n",
      "\n"
     ]
    }
   ],
   "source": [
    "tfidf_sparse_matrix = tfidf.transform(validate.readme)\n",
    "\n",
    "# Transform to document-term matrix\n",
    "vector_spaces = tfidf.transform(validate.readme)\n",
    "\n",
    "X_tfidf = tfidf_sparse_matrix\n",
    "\n",
    "validate['pred_tfidf'] = lm_tfidf.predict(X_tfidf)\n",
    "\n",
    "print(classification_report(validate.language, validate.pred_tfidf))"
   ]
  },
  {
   "cell_type": "markdown",
   "metadata": {},
   "source": [
    "# TEST"
   ]
  },
  {
   "cell_type": "code",
   "execution_count": 41,
   "metadata": {},
   "outputs": [
    {
     "name": "stdout",
     "output_type": "stream",
     "text": [
      "              precision    recall  f1-score   support\n",
      "\n",
      "  javascript       0.71      0.67      0.69        18\n",
      "      python       0.68      0.72      0.70        18\n",
      "\n",
      "    accuracy                           0.69        36\n",
      "   macro avg       0.70      0.69      0.69        36\n",
      "weighted avg       0.70      0.69      0.69        36\n",
      "\n"
     ]
    }
   ],
   "source": [
    "tfidf_sparse_matrix = tfidf.transform(test.readme)\n",
    "\n",
    "# Transform to document-term matrix\n",
    "vector_spaces = tfidf.transform(test.readme)\n",
    "\n",
    "X_tfidf = tfidf_sparse_matrix\n",
    "\n",
    "test['pred_tfidf'] = lm_tfidf.predict(X_tfidf)\n",
    "\n",
    "print(classification_report(test.language, test.pred_tfidf))"
   ]
  },
  {
   "cell_type": "code",
   "execution_count": null,
   "metadata": {},
   "outputs": [],
   "source": []
  }
 ],
 "metadata": {
  "kernelspec": {
   "display_name": "Python 3",
   "language": "python",
   "name": "python3"
  },
  "language_info": {
   "codemirror_mode": {
    "name": "ipython",
    "version": 3
   },
   "file_extension": ".py",
   "mimetype": "text/x-python",
   "name": "python",
   "nbconvert_exporter": "python",
   "pygments_lexer": "ipython3",
   "version": "3.7.6"
  }
 },
 "nbformat": 4,
 "nbformat_minor": 4
}
