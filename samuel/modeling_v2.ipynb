{
 "cells": [
  {
   "cell_type": "code",
   "execution_count": 27,
   "metadata": {},
   "outputs": [],
   "source": [
    "import pandas as pd\n",
    "\n",
    "from prepare import basic_body_clean, tokenize, remove_stopwords, lemmatize, basic_code_clean\n",
    "from sklearn.model_selection import train_test_split\n",
    "from sklearn.linear_model import LogisticRegression\n",
    "from sklearn.metrics import classification_report\n",
    "from sklearn.feature_extraction.text import CountVectorizer\n",
    "from sklearn.feature_extraction.text import TfidfVectorizer\n",
    "\n",
    "import warnings\n",
    "warnings.filterwarnings(\"ignore\")"
   ]
  },
  {
   "cell_type": "markdown",
   "metadata": {},
   "source": [
    "# ACQUIRE, PREP AND SPLIT DATA"
   ]
  },
  {
   "cell_type": "code",
   "execution_count": 16,
   "metadata": {},
   "outputs": [],
   "source": [
    "gitMDs = pd.read_json('gitMDsv2.json')\n",
    "\n",
    "gitMDs['readme'] = gitMDs['body'].apply(basic_body_clean).apply(tokenize).apply(remove_stopwords).apply(lemmatize)\n",
    "gitMDs['language'] = gitMDs['top_code'].apply(basic_code_clean).apply(tokenize).apply(remove_stopwords)\n",
    "gitMDs[['language', 'percentage']] = gitMDs['language'].str.split(\" \",expand=True)\n",
    "gitMDs['percentage'] = pd.to_numeric(gitMDs['percentage'])\n",
    "\n",
    "gitMDs.drop(columns = ['body', 'top_code', 'percentage'], inplace = True)"
   ]
  },
  {
   "cell_type": "code",
   "execution_count": 17,
   "metadata": {},
   "outputs": [
    {
     "data": {
      "text/html": [
       "<div>\n",
       "<style scoped>\n",
       "    .dataframe tbody tr th:only-of-type {\n",
       "        vertical-align: middle;\n",
       "    }\n",
       "\n",
       "    .dataframe tbody tr th {\n",
       "        vertical-align: top;\n",
       "    }\n",
       "\n",
       "    .dataframe thead th {\n",
       "        text-align: right;\n",
       "    }\n",
       "</style>\n",
       "<table border=\"1\" class=\"dataframe\">\n",
       "  <thead>\n",
       "    <tr style=\"text-align: right;\">\n",
       "      <th></th>\n",
       "      <th>readme</th>\n",
       "      <th>language</th>\n",
       "    </tr>\n",
       "  </thead>\n",
       "  <tbody>\n",
       "    <tr>\n",
       "      <th>0</th>\n",
       "      <td>freecodecamporg ' opensource codebase curricul...</td>\n",
       "      <td>javascript</td>\n",
       "    </tr>\n",
       "    <tr>\n",
       "      <th>1</th>\n",
       "      <td>supporting vuejs vuejs mitlicensed open source...</td>\n",
       "      <td>javascript</td>\n",
       "    </tr>\n",
       "    <tr>\n",
       "      <th>2</th>\n",
       "      <td>react react javascript library building user i...</td>\n",
       "      <td>javascript</td>\n",
       "    </tr>\n",
       "    <tr>\n",
       "      <th>3</th>\n",
       "      <td>bootstrap sleek intuitive powerful frontend fr...</td>\n",
       "      <td>javascript</td>\n",
       "    </tr>\n",
       "    <tr>\n",
       "      <th>4</th>\n",
       "      <td>airbnb javascript style guide mostly reasonabl...</td>\n",
       "      <td>javascript</td>\n",
       "    </tr>\n",
       "  </tbody>\n",
       "</table>\n",
       "</div>"
      ],
      "text/plain": [
       "                                              readme    language\n",
       "0  freecodecamporg ' opensource codebase curricul...  javascript\n",
       "1  supporting vuejs vuejs mitlicensed open source...  javascript\n",
       "2  react react javascript library building user i...  javascript\n",
       "3  bootstrap sleek intuitive powerful frontend fr...  javascript\n",
       "4  airbnb javascript style guide mostly reasonabl...  javascript"
      ]
     },
     "execution_count": 17,
     "metadata": {},
     "output_type": "execute_result"
    }
   ],
   "source": [
    "gitMDs.head()"
   ]
  },
  {
   "cell_type": "code",
   "execution_count": 18,
   "metadata": {},
   "outputs": [],
   "source": [
    "train_validate, test = train_test_split(gitMDs[['language', 'readme']], \n",
    "                                        stratify=gitMDs.language, \n",
    "                                        test_size=.2)\n",
    "\n",
    "train, validate = train_test_split(train_validate, \n",
    "                                   stratify=train_validate.language, \n",
    "                                   test_size=.25)"
   ]
  },
  {
   "cell_type": "code",
   "execution_count": 19,
   "metadata": {},
   "outputs": [
    {
     "data": {
      "text/plain": [
       "python        54\n",
       "javascript    54\n",
       "Name: language, dtype: int64"
      ]
     },
     "execution_count": 19,
     "metadata": {},
     "output_type": "execute_result"
    }
   ],
   "source": [
    "train.language.value_counts()"
   ]
  },
  {
   "cell_type": "markdown",
   "metadata": {},
   "source": [
    "# BASELINE"
   ]
  },
  {
   "cell_type": "code",
   "execution_count": 25,
   "metadata": {},
   "outputs": [
    {
     "name": "stdout",
     "output_type": "stream",
     "text": [
      "              precision    recall  f1-score   support\n",
      "\n",
      "  javascript       0.00      0.00      0.00        54\n",
      "      python       0.50      1.00      0.67        54\n",
      "\n",
      "    accuracy                           0.50       108\n",
      "   macro avg       0.25      0.50      0.33       108\n",
      "weighted avg       0.25      0.50      0.33       108\n",
      "\n"
     ]
    }
   ],
   "source": [
    "train['baseline_prediction'] = 'python'\n",
    "\n",
    "print(classification_report(train.language, train.baseline_prediction))"
   ]
  },
  {
   "cell_type": "markdown",
   "metadata": {},
   "source": [
    "# BAG OF WORDS\n",
    "***"
   ]
  },
  {
   "cell_type": "markdown",
   "metadata": {},
   "source": [
    "## TRAIN"
   ]
  },
  {
   "cell_type": "code",
   "execution_count": null,
   "metadata": {},
   "outputs": [],
   "source": [
    "# creating vectorizer\n",
    "vectorizer = CountVectorizer(stop_words='english', \n",
    "                             min_df=20, \n",
    "                             ngram_range=(1,2), \n",
    "                             binary=True)\n",
    "\n",
    "# Learn vocabulary in sentences. \n",
    "vectorizer.fit(train.readme)\n",
    "\n",
    "# Get dictionary. \n",
    "vectorizer.get_feature_names()\n",
    "\n",
    "# Transform each sentences in vector space.\n",
    "bow = vectorizer.transform(train.readme)\n",
    "\n",
    "X_bow = bow"
   ]
  },
  {
   "cell_type": "code",
   "execution_count": 30,
   "metadata": {},
   "outputs": [],
   "source": [
    "# create our y dataset\n",
    "y = train['language']\n",
    "\n",
    "lm = LogisticRegression().fit(X_bow, y)\n",
    "\n",
    "train['predicted'] = lm.predict(X_bow)"
   ]
  },
  {
   "cell_type": "code",
   "execution_count": 31,
   "metadata": {
    "scrolled": true
   },
   "outputs": [
    {
     "name": "stdout",
     "output_type": "stream",
     "text": [
      "              precision    recall  f1-score   support\n",
      "\n",
      "  javascript       1.00      1.00      1.00        54\n",
      "      python       1.00      1.00      1.00        54\n",
      "\n",
      "    accuracy                           1.00       108\n",
      "   macro avg       1.00      1.00      1.00       108\n",
      "weighted avg       1.00      1.00      1.00       108\n",
      "\n"
     ]
    }
   ],
   "source": [
    "print(classification_report(train.language, train.predicted))"
   ]
  },
  {
   "cell_type": "markdown",
   "metadata": {},
   "source": [
    "## VALIDATE"
   ]
  },
  {
   "cell_type": "code",
   "execution_count": 34,
   "metadata": {},
   "outputs": [
    {
     "name": "stdout",
     "output_type": "stream",
     "text": [
      "              precision    recall  f1-score   support\n",
      "\n",
      "  javascript       0.88      0.83      0.86        18\n",
      "      python       0.84      0.89      0.86        18\n",
      "\n",
      "    accuracy                           0.86        36\n",
      "   macro avg       0.86      0.86      0.86        36\n",
      "weighted avg       0.86      0.86      0.86        36\n",
      "\n"
     ]
    }
   ],
   "source": [
    "# Transform each sentences in vector space.\n",
    "v_bow = vectorizer.transform(validate.readme)\n",
    "\n",
    "validate['predicted'] = lm.predict(v_bow)\n",
    "\n",
    "print(classification_report(validate.language, validate.predicted))"
   ]
  },
  {
   "cell_type": "markdown",
   "metadata": {},
   "source": [
    "## TEST"
   ]
  },
  {
   "cell_type": "code",
   "execution_count": 35,
   "metadata": {},
   "outputs": [
    {
     "name": "stdout",
     "output_type": "stream",
     "text": [
      "              precision    recall  f1-score   support\n",
      "\n",
      "  javascript       0.71      0.67      0.69        18\n",
      "      python       0.68      0.72      0.70        18\n",
      "\n",
      "    accuracy                           0.69        36\n",
      "   macro avg       0.70      0.69      0.69        36\n",
      "weighted avg       0.70      0.69      0.69        36\n",
      "\n"
     ]
    }
   ],
   "source": [
    "# Transform each sentences in vector space.\n",
    "v_bow = vectorizer.transform(test.readme)\n",
    "\n",
    "test['predicted'] = lm.predict(v_bow)\n",
    "\n",
    "print(classification_report(test.language, test.predicted))"
   ]
  },
  {
   "cell_type": "markdown",
   "metadata": {},
   "source": [
    "# TFIDF\n",
    "***"
   ]
  },
  {
   "cell_type": "markdown",
   "metadata": {},
   "source": [
    "# TRAIN"
   ]
  },
  {
   "cell_type": "code",
   "execution_count": 38,
   "metadata": {},
   "outputs": [],
   "source": [
    "tfidf = TfidfVectorizer(stop_words='english', min_df = 20,\n",
    "                             ngram_range=(1,2), \n",
    "                             binary=True)\n",
    "\n",
    "tfidf_sparse_matrix = tfidf.fit_transform(train.readme)\n",
    "\n",
    "tfidf.vocabulary_\n",
    "\n",
    "# Transform to document-term matrix\n",
    "vector_spaces = tfidf.transform(train.readme)\n",
    "\n",
    "X_tfidf = tfidf_sparse_matrix"
   ]
  },
  {
   "cell_type": "code",
   "execution_count": 39,
   "metadata": {},
   "outputs": [
    {
     "name": "stdout",
     "output_type": "stream",
     "text": [
      "              precision    recall  f1-score   support\n",
      "\n",
      "  javascript       1.00      0.98      0.99        54\n",
      "      python       0.98      1.00      0.99        54\n",
      "\n",
      "    accuracy                           0.99       108\n",
      "   macro avg       0.99      0.99      0.99       108\n",
      "weighted avg       0.99      0.99      0.99       108\n",
      "\n"
     ]
    }
   ],
   "source": [
    "lm_tfidf = LogisticRegression().fit(X_tfidf, y)\n",
    "\n",
    "train['pred_tfidf'] = lm_tfidf.predict(X_tfidf)\n",
    "\n",
    "print(classification_report(train.language, train.pred_tfidf))"
   ]
  },
  {
   "cell_type": "markdown",
   "metadata": {},
   "source": [
    "# VALIDATE"
   ]
  },
  {
   "cell_type": "code",
   "execution_count": 40,
   "metadata": {},
   "outputs": [
    {
     "name": "stdout",
     "output_type": "stream",
     "text": [
      "              precision    recall  f1-score   support\n",
      "\n",
      "  javascript       0.94      0.83      0.88        18\n",
      "      python       0.85      0.94      0.89        18\n",
      "\n",
      "    accuracy                           0.89        36\n",
      "   macro avg       0.89      0.89      0.89        36\n",
      "weighted avg       0.89      0.89      0.89        36\n",
      "\n"
     ]
    }
   ],
   "source": [
    "tfidf_sparse_matrix = tfidf.transform(validate.readme)\n",
    "\n",
    "# Transform to document-term matrix\n",
    "vector_spaces = tfidf.transform(validate.readme)\n",
    "\n",
    "X_tfidf = tfidf_sparse_matrix\n",
    "\n",
    "validate['pred_tfidf'] = lm_tfidf.predict(X_tfidf)\n",
    "\n",
    "print(classification_report(validate.language, validate.pred_tfidf))"
   ]
  },
  {
   "cell_type": "markdown",
   "metadata": {},
   "source": [
    "# TEST"
   ]
  },
  {
   "cell_type": "code",
   "execution_count": 41,
   "metadata": {},
   "outputs": [
    {
     "name": "stdout",
     "output_type": "stream",
     "text": [
      "              precision    recall  f1-score   support\n",
      "\n",
      "  javascript       0.71      0.67      0.69        18\n",
      "      python       0.68      0.72      0.70        18\n",
      "\n",
      "    accuracy                           0.69        36\n",
      "   macro avg       0.70      0.69      0.69        36\n",
      "weighted avg       0.70      0.69      0.69        36\n",
      "\n"
     ]
    }
   ],
   "source": [
    "tfidf_sparse_matrix = tfidf.transform(test.readme)\n",
    "\n",
    "# Transform to document-term matrix\n",
    "vector_spaces = tfidf.transform(test.readme)\n",
    "\n",
    "X_tfidf = tfidf_sparse_matrix\n",
    "\n",
    "test['pred_tfidf'] = lm_tfidf.predict(X_tfidf)\n",
    "\n",
    "print(classification_report(test.language, test.pred_tfidf))"
   ]
  },
  {
   "cell_type": "code",
   "execution_count": null,
   "metadata": {},
   "outputs": [],
   "source": []
  }
 ],
 "metadata": {
  "kernelspec": {
   "display_name": "Python 3",
   "language": "python",
   "name": "python3"
  },
  "language_info": {
   "codemirror_mode": {
    "name": "ipython",
    "version": 3
   },
   "file_extension": ".py",
   "mimetype": "text/x-python",
   "name": "python",
   "nbconvert_exporter": "python",
   "pygments_lexer": "ipython3",
   "version": "3.7.6"
  }
 },
 "nbformat": 4,
 "nbformat_minor": 4
}
