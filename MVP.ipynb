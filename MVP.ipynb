{
 "cells": [
  {
   "cell_type": "markdown",
   "metadata": {},
   "source": [
    "# Table of Contents\n",
    "* [Goal](#Goal)\n",
    "* [Wrangle](#Wrangle)\n",
    "* [Explore Data Analysis](#Explore)\n",
    "  * [Overall Top 20](#Over-All-Top-20-Words)\n",
    "  * [Each Langauge's Top 10 Words](#Top-10-Words-from-Javascript-and-Python)\n",
    "* [Modeling](#Modeling)\n",
    "    * [Train](#Train)\n",
    "    * [Validate](#Validate)\n",
    "    * [Test](#Test)\n",
    "* [Conclusion](#Conclusion)"
   ]
  },
  {
   "cell_type": "code",
   "execution_count": 1,
   "metadata": {},
   "outputs": [
    {
     "name": "stdout",
     "output_type": "stream",
     "text": [
      "Initalized\n"
     ]
    }
   ],
   "source": [
    "# establishing environment\n",
    "import re\n",
    "\n",
    "import pandas as pd\n",
    "import numpy as np\n",
    "import seaborn as sns\n",
    "import matplotlib.pyplot as plt\n",
    "\n",
    "from scipy import stats\n",
    "from prepare import prep_gitMDs\n",
    "from wordcloud import WordCloud\n",
    "from sklearn.model_selection import train_test_split\n",
    "from sklearn.metrics import classification_report\n",
    "from sklearn.linear_model import LogisticRegression\n",
    "from sklearn.feature_extraction.text import CountVectorizer, TfidfVectorizer\n",
    "\n",
    "import warnings\n",
    "warnings.filterwarnings(\"ignore\")\n",
    "\n",
    "print('Initalized')"
   ]
  },
  {
   "cell_type": "markdown",
   "metadata": {},
   "source": [
    "# Goal\n",
    "The goal of this project is to use Natural Language Processing (NLP) to predict the primary coding language of a git repo using the repo's README.  \n",
    "\n",
    "We will also deliver the following:\n",
    "\n",
    "  * A Jupyter notebook containing detailing to every step of this project\n",
    "  * A 5-minute presentation about the project, including slides"
   ]
  },
  {
   "cell_type": "markdown",
   "metadata": {},
   "source": [
    "# Wrangle\n",
    "We will use the modules ***[prepare.py](https://github.com/NLP-MVPs/nlp-project/blob/main/prepare.py)*** to gather the data, clean the data, and put it into a dataframe. From there we will begin to wrangle the data for exploration focusining mainly on creating word strings and additional dataframe from our data.\n",
    "\n",
    "[Table of Contents](#Table-of-Contents)"
   ]
  },
  {
   "cell_type": "code",
   "execution_count": 2,
   "metadata": {
    "scrolled": true
   },
   "outputs": [
    {
     "name": "stdout",
     "output_type": "stream",
     "text": [
      "Help on function prep_gitMDs in module prepare:\n",
      "\n",
      "prep_gitMDs()\n",
      "    Uses the helper functions contained within the prepare.py module on the gitMDs repo url list from the acquire.py module to create a unified data frame for exploration\n",
      "    * Applies a basic_body_clean, tokenizizatize, removestop_words, AND lemmatizes fuctions to the readme body text\n",
      "      and returns the output as df['clean'].\n",
      "    * Applies the basic_code_clean, tokenizizatize, and removestop_words fuctions to the top_code \n",
      "      and returns it as df['top_code_cleaned]\n",
      "    * Splits df['top_code_cleaned] into two columns df['top_code_cleaned'] and df['top_percentage_cleaned']\n",
      "    * Returns the gitMDs as a data frame\n",
      "\n"
     ]
    }
   ],
   "source": [
    "help(prep_gitMDs)"
   ]
  },
  {
   "cell_type": "markdown",
   "metadata": {},
   "source": [
    "### Acquire the data using function from wrangle.py file"
   ]
  },
  {
   "cell_type": "code",
   "execution_count": 3,
   "metadata": {
    "scrolled": true
   },
   "outputs": [
    {
     "data": {
      "text/html": [
       "<div>\n",
       "<style scoped>\n",
       "    .dataframe tbody tr th:only-of-type {\n",
       "        vertical-align: middle;\n",
       "    }\n",
       "\n",
       "    .dataframe tbody tr th {\n",
       "        vertical-align: top;\n",
       "    }\n",
       "\n",
       "    .dataframe thead th {\n",
       "        text-align: right;\n",
       "    }\n",
       "</style>\n",
       "<table border=\"1\" class=\"dataframe\">\n",
       "  <thead>\n",
       "    <tr style=\"text-align: right;\">\n",
       "      <th></th>\n",
       "      <th>body</th>\n",
       "      <th>top_code</th>\n",
       "      <th>clean</th>\n",
       "      <th>top_code_clean</th>\n",
       "      <th>percentage</th>\n",
       "    </tr>\n",
       "  </thead>\n",
       "  <tbody>\n",
       "    <tr>\n",
       "      <th>0</th>\n",
       "      <td>\\n\\n\\n\\n\\nfreeCodeCamp.org's open-source codeb...</td>\n",
       "      <td>\\n\\nJavaScript\\n91.3%\\n</td>\n",
       "      <td>freecodecamporg ' opensource codebase curricul...</td>\n",
       "      <td>javascript</td>\n",
       "      <td>91.3</td>\n",
       "    </tr>\n",
       "    <tr>\n",
       "      <th>1</th>\n",
       "      <td>\\n\\n\\n\\n\\n\\n\\n\\n\\n\\n\\nSupporting Vue.js\\nVue.j...</td>\n",
       "      <td>\\n\\nJavaScript\\n97.7%\\n</td>\n",
       "      <td>supporting vuejs vuejs mitlicensed open source...</td>\n",
       "      <td>javascript</td>\n",
       "      <td>97.7</td>\n",
       "    </tr>\n",
       "    <tr>\n",
       "      <th>2</th>\n",
       "      <td>React ·    \\nReact is a JavaScript library for...</td>\n",
       "      <td>\\n\\nJavaScript\\n95.0%\\n</td>\n",
       "      <td>react react javascript library building user i...</td>\n",
       "      <td>javascript</td>\n",
       "      <td>95.0</td>\n",
       "    </tr>\n",
       "    <tr>\n",
       "      <th>3</th>\n",
       "      <td>\\n\\n\\n\\n\\nBootstrap\\n\\n  Sleek, intuitive, and...</td>\n",
       "      <td>\\n\\nJavaScript\\n46.7%\\n</td>\n",
       "      <td>bootstrap sleek intuitive powerful frontend fr...</td>\n",
       "      <td>javascript</td>\n",
       "      <td>46.7</td>\n",
       "    </tr>\n",
       "    <tr>\n",
       "      <th>4</th>\n",
       "      <td>Airbnb JavaScript Style Guide() {\\nA mostly re...</td>\n",
       "      <td>\\n\\nJavaScript\\n100.0%\\n</td>\n",
       "      <td>airbnb javascript style guide mostly reasonabl...</td>\n",
       "      <td>javascript</td>\n",
       "      <td>100.0</td>\n",
       "    </tr>\n",
       "  </tbody>\n",
       "</table>\n",
       "</div>"
      ],
      "text/plain": [
       "                                                body  \\\n",
       "0  \\n\\n\\n\\n\\nfreeCodeCamp.org's open-source codeb...   \n",
       "1  \\n\\n\\n\\n\\n\\n\\n\\n\\n\\n\\nSupporting Vue.js\\nVue.j...   \n",
       "2  React ·    \\nReact is a JavaScript library for...   \n",
       "3  \\n\\n\\n\\n\\nBootstrap\\n\\n  Sleek, intuitive, and...   \n",
       "4  Airbnb JavaScript Style Guide() {\\nA mostly re...   \n",
       "\n",
       "                   top_code  \\\n",
       "0   \\n\\nJavaScript\\n91.3%\\n   \n",
       "1   \\n\\nJavaScript\\n97.7%\\n   \n",
       "2   \\n\\nJavaScript\\n95.0%\\n   \n",
       "3   \\n\\nJavaScript\\n46.7%\\n   \n",
       "4  \\n\\nJavaScript\\n100.0%\\n   \n",
       "\n",
       "                                               clean top_code_clean  \\\n",
       "0  freecodecamporg ' opensource codebase curricul...     javascript   \n",
       "1  supporting vuejs vuejs mitlicensed open source...     javascript   \n",
       "2  react react javascript library building user i...     javascript   \n",
       "3  bootstrap sleek intuitive powerful frontend fr...     javascript   \n",
       "4  airbnb javascript style guide mostly reasonabl...     javascript   \n",
       "\n",
       "   percentage  \n",
       "0        91.3  \n",
       "1        97.7  \n",
       "2        95.0  \n",
       "3        46.7  \n",
       "4       100.0  "
      ]
     },
     "execution_count": 3,
     "metadata": {},
     "output_type": "execute_result"
    }
   ],
   "source": [
    "# Use the prep_gitMDs fuction to run the acquire and prepare scripts\n",
    "df = prep_gitMDs()\n",
    "\n",
    "df.head()"
   ]
  },
  {
   "cell_type": "markdown",
   "metadata": {},
   "source": [
    "### Pruning columns and splitting into Train, Validate and Test samples"
   ]
  },
  {
   "cell_type": "code",
   "execution_count": 4,
   "metadata": {},
   "outputs": [],
   "source": [
    "# dropping columns we won't be using\n",
    "df.drop(columns = ['body', 'top_code', 'percentage'], inplace = True)\n",
    "\n",
    "# renaming columns\n",
    "df.columns = ['readme', 'language']\n",
    "\n",
    "# splitting data in train, validate and test\n",
    "train_validate, test = train_test_split(df[['language', 'readme']], \n",
    "                                        stratify=df.language, \n",
    "                                        test_size=.2, \n",
    "                                        random_state=333)\n",
    "\n",
    "train, validate = train_test_split(train_validate, \n",
    "                                   stratify=train_validate.language, \n",
    "                                   test_size=.25,\n",
    "                                   random_state=333)"
   ]
  },
  {
   "cell_type": "code",
   "execution_count": 5,
   "metadata": {},
   "outputs": [
    {
     "name": "stdout",
     "output_type": "stream",
     "text": [
      "(137, 2) (46, 2) (46, 2)\n"
     ]
    }
   ],
   "source": [
    "# printing rows/columns for each dataset to confirm they split correctly\n",
    "print(train.shape, validate.shape, test.shape)"
   ]
  },
  {
   "cell_type": "markdown",
   "metadata": {},
   "source": [
    "### Combining the readme text of each language into separate series' for later exploration"
   ]
  },
  {
   "cell_type": "code",
   "execution_count": 6,
   "metadata": {},
   "outputs": [],
   "source": [
    "# create series objects for each top_code_clean that is a string of words joined on spaces \n",
    "# to make it 1 continious string for python\n",
    "python_words = ' '.join(train[train.language=='python'].readme)\n",
    "\n",
    "# for javascript\n",
    "javascript_words = ' '.join(train[train.language == 'javascript'].readme)\n",
    "\n",
    "# both python and java script\n",
    "all_words = ' '.join(train.readme)"
   ]
  },
  {
   "cell_type": "code",
   "execution_count": 7,
   "metadata": {},
   "outputs": [],
   "source": [
    "# Then for each series remove any stand-alone characters to reduce noise\n",
    "python_words = re.sub(r'\\s.\\s', '', python_words)\n",
    "javascript_words = re.sub(r'\\s.\\s', '', javascript_words)\n",
    "all_words = re.sub(r'\\s.\\s', '', all_words)"
   ]
  },
  {
   "cell_type": "markdown",
   "metadata": {},
   "source": [
    "# Explore\n",
    "\n",
    "Now that the data has been processed into more usable forms we can begin to explore the data for features we can use in building our models. We will create a wordcloud and frequency chat from the top 20 words used across both programing lanauges, and then we will create a frequency chart and word cloud charts from our top10 words data frame.\n",
    "\n",
    "[Table of Contents](#Table-of-Contents)"
   ]
  },
  {
   "cell_type": "markdown",
   "metadata": {},
   "source": [
    "### Finding the most common words within all READMEs as well as each language's respective READMEs"
   ]
  },
  {
   "cell_type": "code",
   "execution_count": 8,
   "metadata": {
    "scrolled": true
   },
   "outputs": [
    {
     "data": {
      "text/plain": [
       "yes        680\n",
       "unknown    523\n",
       "no         462\n",
       "github     339\n",
       "use        253\n",
       "dtype: int64"
      ]
     },
     "execution_count": 8,
     "metadata": {},
     "output_type": "execute_result"
    }
   ],
   "source": [
    "# For each top_code_clean find out how many times each word happens and put that into a topic_freq obj.\n",
    "all_freq = pd.Series(all_words.split()).value_counts()\n",
    "python_freq = pd.Series(python_words.split()).value_counts()\n",
    "javascript_freq = pd.Series(javascript_words.split()).value_counts()\n",
    "\n",
    "python_freq.head()"
   ]
  },
  {
   "cell_type": "code",
   "execution_count": 9,
   "metadata": {},
   "outputs": [
    {
     "data": {
      "text/html": [
       "<div>\n",
       "<style scoped>\n",
       "    .dataframe tbody tr th:only-of-type {\n",
       "        vertical-align: middle;\n",
       "    }\n",
       "\n",
       "    .dataframe tbody tr th {\n",
       "        vertical-align: top;\n",
       "    }\n",
       "\n",
       "    .dataframe thead th {\n",
       "        text-align: right;\n",
       "    }\n",
       "</style>\n",
       "<table border=\"1\" class=\"dataframe\">\n",
       "  <thead>\n",
       "    <tr style=\"text-align: right;\">\n",
       "      <th></th>\n",
       "      <th>all</th>\n",
       "      <th>python</th>\n",
       "      <th>javascript</th>\n",
       "    </tr>\n",
       "  </thead>\n",
       "  <tbody>\n",
       "    <tr>\n",
       "      <th>&amp;#9;</th>\n",
       "      <td>566</td>\n",
       "      <td>144</td>\n",
       "      <td>422</td>\n",
       "    </tr>\n",
       "    <tr>\n",
       "      <th>&amp;#9;&amp;#9;p</th>\n",
       "      <td>1</td>\n",
       "      <td>1</td>\n",
       "      <td>0</td>\n",
       "    </tr>\n",
       "    <tr>\n",
       "      <th>&amp;#9;110</th>\n",
       "      <td>1</td>\n",
       "      <td>0</td>\n",
       "      <td>1</td>\n",
       "    </tr>\n",
       "    <tr>\n",
       "      <th>&amp;#9;111</th>\n",
       "      <td>1</td>\n",
       "      <td>0</td>\n",
       "      <td>1</td>\n",
       "    </tr>\n",
       "    <tr>\n",
       "      <th>&amp;#9;112</th>\n",
       "      <td>1</td>\n",
       "      <td>0</td>\n",
       "      <td>1</td>\n",
       "    </tr>\n",
       "  </tbody>\n",
       "</table>\n",
       "</div>"
      ],
      "text/plain": [
       "           all  python  javascript\n",
       "&#9;       566     144         422\n",
       "&#9;&#9;p    1       1           0\n",
       "&#9;110      1       0           1\n",
       "&#9;111      1       0           1\n",
       "&#9;112      1       0           1"
      ]
     },
     "execution_count": 9,
     "metadata": {},
     "output_type": "execute_result"
    }
   ],
   "source": [
    "# Combine all the series together into a single data frame to see the word count across all topics\n",
    "word_counts = (pd.concat([all_freq, python_freq, javascript_freq], axis=1, sort=True)\n",
    "               .set_axis(['all', 'python', 'javascript', ], axis=1, inplace=False)\n",
    "               .fillna(0)\n",
    "               .apply(lambda s: s.astype(int))\n",
    "              )\n",
    "\n",
    "word_counts.head()"
   ]
  },
  {
   "cell_type": "markdown",
   "metadata": {},
   "source": [
    "### Create a list of words that combines the top 10 words used by javascript and python into a single list, and then create a top10 dataframe that only looks at those words."
   ]
  },
  {
   "cell_type": "code",
   "execution_count": 10,
   "metadata": {},
   "outputs": [
    {
     "data": {
      "text/html": [
       "<div>\n",
       "<style scoped>\n",
       "    .dataframe tbody tr th:only-of-type {\n",
       "        vertical-align: middle;\n",
       "    }\n",
       "\n",
       "    .dataframe tbody tr th {\n",
       "        vertical-align: top;\n",
       "    }\n",
       "\n",
       "    .dataframe thead th {\n",
       "        text-align: right;\n",
       "    }\n",
       "</style>\n",
       "<table border=\"1\" class=\"dataframe\">\n",
       "  <thead>\n",
       "    <tr style=\"text-align: right;\">\n",
       "      <th></th>\n",
       "      <th>all</th>\n",
       "      <th>python</th>\n",
       "      <th>javascript</th>\n",
       "    </tr>\n",
       "  </thead>\n",
       "  <tbody>\n",
       "    <tr>\n",
       "      <th>&amp;#9;</th>\n",
       "      <td>566</td>\n",
       "      <td>144</td>\n",
       "      <td>422</td>\n",
       "    </tr>\n",
       "    <tr>\n",
       "      <th>apikey</th>\n",
       "      <td>248</td>\n",
       "      <td>248</td>\n",
       "      <td>0</td>\n",
       "    </tr>\n",
       "    <tr>\n",
       "      <th>app</th>\n",
       "      <td>373</td>\n",
       "      <td>22</td>\n",
       "      <td>351</td>\n",
       "    </tr>\n",
       "    <tr>\n",
       "      <th>application</th>\n",
       "      <td>284</td>\n",
       "      <td>27</td>\n",
       "      <td>257</td>\n",
       "    </tr>\n",
       "    <tr>\n",
       "      <th>component</th>\n",
       "      <td>300</td>\n",
       "      <td>14</td>\n",
       "      <td>286</td>\n",
       "    </tr>\n",
       "    <tr>\n",
       "      <th>data</th>\n",
       "      <td>405</td>\n",
       "      <td>232</td>\n",
       "      <td>173</td>\n",
       "    </tr>\n",
       "    <tr>\n",
       "      <th>file</th>\n",
       "      <td>438</td>\n",
       "      <td>131</td>\n",
       "      <td>307</td>\n",
       "    </tr>\n",
       "    <tr>\n",
       "      <th>github</th>\n",
       "      <td>418</td>\n",
       "      <td>339</td>\n",
       "      <td>79</td>\n",
       "    </tr>\n",
       "    <tr>\n",
       "      <th>image</th>\n",
       "      <td>378</td>\n",
       "      <td>251</td>\n",
       "      <td>127</td>\n",
       "    </tr>\n",
       "    <tr>\n",
       "      <th>install</th>\n",
       "      <td>404</td>\n",
       "      <td>251</td>\n",
       "      <td>153</td>\n",
       "    </tr>\n",
       "    <tr>\n",
       "      <th>javascript</th>\n",
       "      <td>548</td>\n",
       "      <td>4</td>\n",
       "      <td>544</td>\n",
       "    </tr>\n",
       "    <tr>\n",
       "      <th>native</th>\n",
       "      <td>882</td>\n",
       "      <td>3</td>\n",
       "      <td>879</td>\n",
       "    </tr>\n",
       "    <tr>\n",
       "      <th>no</th>\n",
       "      <td>544</td>\n",
       "      <td>462</td>\n",
       "      <td>82</td>\n",
       "    </tr>\n",
       "    <tr>\n",
       "      <th>python</th>\n",
       "      <td>264</td>\n",
       "      <td>249</td>\n",
       "      <td>15</td>\n",
       "    </tr>\n",
       "    <tr>\n",
       "      <th>react</th>\n",
       "      <td>879</td>\n",
       "      <td>1</td>\n",
       "      <td>878</td>\n",
       "    </tr>\n",
       "    <tr>\n",
       "      <th>unknown</th>\n",
       "      <td>523</td>\n",
       "      <td>523</td>\n",
       "      <td>0</td>\n",
       "    </tr>\n",
       "    <tr>\n",
       "      <th>use</th>\n",
       "      <td>588</td>\n",
       "      <td>253</td>\n",
       "      <td>335</td>\n",
       "    </tr>\n",
       "    <tr>\n",
       "      <th>using</th>\n",
       "      <td>438</td>\n",
       "      <td>200</td>\n",
       "      <td>238</td>\n",
       "    </tr>\n",
       "    <tr>\n",
       "      <th>yes</th>\n",
       "      <td>684</td>\n",
       "      <td>680</td>\n",
       "      <td>4</td>\n",
       "    </tr>\n",
       "  </tbody>\n",
       "</table>\n",
       "</div>"
      ],
      "text/plain": [
       "             all  python  javascript\n",
       "&#9;         566     144         422\n",
       "apikey       248     248           0\n",
       "app          373      22         351\n",
       "application  284      27         257\n",
       "component    300      14         286\n",
       "data         405     232         173\n",
       "file         438     131         307\n",
       "github       418     339          79\n",
       "image        378     251         127\n",
       "install      404     251         153\n",
       "javascript   548       4         544\n",
       "native       882       3         879\n",
       "no           544     462          82\n",
       "python       264     249          15\n",
       "react        879       1         878\n",
       "unknown      523     523           0\n",
       "use          588     253         335\n",
       "using        438     200         238\n",
       "yes          684     680           4"
      ]
     },
     "execution_count": 10,
     "metadata": {},
     "output_type": "execute_result"
    }
   ],
   "source": [
    "# Top 10 words used by javascript\n",
    "top_10_js_words = word_counts['javascript'].sort_values(ascending=False).head(10)\n",
    "\n",
    "# top 10 words by python\n",
    "top_10_py_words = word_counts['python'].sort_values(ascending=False).head(10)\n",
    "\n",
    "# combines the lists together\n",
    "top_10_each = (list(top_10_py_words.index) + list(top_10_js_words.index))\n",
    "\n",
    "# Create the new data frame where the index values match the top_10_each value\n",
    "top10 = word_counts[word_counts.index.isin(top_10_each)]\n",
    "\n",
    "top10"
   ]
  },
  {
   "cell_type": "markdown",
   "metadata": {},
   "source": [
    "## Overall Top 20 Words\n",
    "\n",
    "[Table of Contents](#Table-of-Contents)"
   ]
  },
  {
   "cell_type": "code",
   "execution_count": 11,
   "metadata": {},
   "outputs": [
    {
     "data": {
      "text/plain": [
       "native        882\n",
       "react         879\n",
       "yes           684\n",
       "use           588\n",
       "&#9;          566\n",
       "javascript    548\n",
       "no            544\n",
       "unknown       523\n",
       "using         438\n",
       "file          438\n",
       "github        418\n",
       "code          413\n",
       "data          405\n",
       "install       404\n",
       "image         378\n",
       "app           373\n",
       "example       365\n",
       "not           334\n",
       "support       334\n",
       "api           327\n",
       "Name: all, dtype: int64"
      ]
     },
     "execution_count": 11,
     "metadata": {},
     "output_type": "execute_result"
    }
   ],
   "source": [
    "# Create a top 20 all_words df\n",
    "top_20_all_words = word_counts['all'].sort_values(ascending=False).head(20)\n",
    "\n",
    "top_20_all_words"
   ]
  },
  {
   "cell_type": "markdown",
   "metadata": {},
   "source": [
    "### Word Cloud of top 20 words in all READMEs"
   ]
  },
  {
   "cell_type": "code",
   "execution_count": 12,
   "metadata": {},
   "outputs": [
    {
     "data": {
      "image/png": "[encoded data removed]",
      "text/plain": [
       "<Figure size 720x720 with 1 Axes>"
      ]
     },
     "metadata": {
      "needs_background": "light"
     },
     "output_type": "display_data"
    }
   ],
   "source": [
    "# Turn the dataframes into dictionaries\n",
    "allz = {k: v for k, v in top_20_all_words.to_dict().items()}\n",
    "\n",
    "# Use the dictionary objects and .generate_from_frequencies method of WordCloud \n",
    "# to generate a wordcloud map for each language\n",
    "all_top_20_cloud = WordCloud(background_color='black', \n",
    "                      height=800, width=800, colormap='prism').generate_from_frequencies(allz)\n",
    "\n",
    "plt.figure(figsize=(10,10))\n",
    "plt.title(\"Top 20 Words Used Across All Readmes\", fontsize=20)\n",
    "plt.imshow(all_top_20_cloud)\n",
    "plt.axis('off')\n",
    "plt.show()"
   ]
  },
  {
   "cell_type": "markdown",
   "metadata": {},
   "source": [
    "### Visualization of top 20 words in all READMEs"
   ]
  },
  {
   "cell_type": "code",
   "execution_count": 13,
   "metadata": {
    "scrolled": false
   },
   "outputs": [
    {
     "data": {
      "image/png": "[encoded data removed]",
      "text/plain": [
       "<Figure size 864x576 with 1 Axes>"
      ]
     },
     "metadata": {
      "needs_background": "light"
     },
     "output_type": "display_data"
    }
   ],
   "source": [
    "# visualize the percentage each coding language makes up for the top 20 words\n",
    "(word_counts.assign(p_python = word_counts.python/word_counts['all'], \n",
    "                   p_javascript = word_counts.javascript/word_counts['all'])\n",
    " .sort_values(by='all')[['p_python', 'p_javascript']]\n",
    " .tail(20)\n",
    " .sort_values(by='p_python')\n",
    " .plot.barh(stacked=True, figsize=(12,8))\n",
    ")\n",
    "plt.title(\"Proportions of the Top 20 Words Across Code Languages\", fontsize=18)\n",
    "plt.xticks(fontsize=14)\n",
    "plt.yticks(fontsize=14)\n",
    "plt.legend(bbox_to_anchor=(1.05, 1),borderaxespad=0)\n",
    "plt.show()"
   ]
  },
  {
   "cell_type": "markdown",
   "metadata": {},
   "source": [
    "## Top 10 Words from Javascript and Python\n",
    "\n",
    "[Table of Contents](#Table-of-Contents)"
   ]
  },
  {
   "cell_type": "markdown",
   "metadata": {},
   "source": [
    "### Word Cloud of top 10 words in Javascript and Python READMEs"
   ]
  },
  {
   "cell_type": "code",
   "execution_count": 14,
   "metadata": {},
   "outputs": [
    {
     "data": {
      "image/png": "[encoded data removed]",
      "text/plain": [
       "<Figure size 720x720 with 2 Axes>"
      ]
     },
     "metadata": {
      "needs_background": "light"
     },
     "output_type": "display_data"
    }
   ],
   "source": [
    "# Createa a top 10 words for each javascript and python\n",
    "top_10_js_words = word_counts['javascript'].sort_values(ascending=False).head(10)\n",
    "top_10_py_words = word_counts['python'].sort_values(ascending=False).head(10)\n",
    "\n",
    "# Turn the dataframes into dictionaries\n",
    "js = {k: v for k, v in top_10_js_words.to_dict().items()}\n",
    "py = {k: v for k, v in top_10_py_words.to_dict().items()}\n",
    "\n",
    "\n",
    "# Use the dictionary objects and .generate_from_frequencies method of WordCloud to generate a wordcloud map for each language\n",
    "js10_cloud = WordCloud(background_color='black', \n",
    "                      height=800, width=800, colormap='prism').generate_from_frequencies(js)\n",
    "\n",
    "py10_cloud = WordCloud(background_color='black', \n",
    "                      height=800, width=800, colormap='prism').generate_from_frequencies(py)\n",
    "\n",
    "# Change the figure size\n",
    "plt.figure(figsize=(10,10))\n",
    "axs = [plt.axes([.25, 1, .5, .5]), plt.axes([.8, 1, .5, .5])]\n",
    "\n",
    "# imshow => display data as an image\n",
    "axs[0].imshow(js10_cloud)\n",
    "axs[1].imshow(py10_cloud)\n",
    "\n",
    "axs[0].set_title('Javascript')\n",
    "axs[1].set_title('Python')\n",
    "\n",
    "# Turn off the axis\n",
    "for ax in axs: ax.axis('off')"
   ]
  },
  {
   "cell_type": "markdown",
   "metadata": {},
   "source": [
    "### Word Cloud of top 10 words in Javascript and Python READMEs"
   ]
  },
  {
   "cell_type": "code",
   "execution_count": 15,
   "metadata": {
    "scrolled": false
   },
   "outputs": [
    {
     "data": {
      "text/plain": [
       "<Figure size 1440x1008 with 0 Axes>"
      ]
     },
     "metadata": {},
     "output_type": "display_data"
    },
    {
     "data": {
      "image/png": "[encoded data removed]",
      "text/plain": [
       "<Figure size 864x576 with 1 Axes>"
      ]
     },
     "metadata": {
      "needs_background": "light"
     },
     "output_type": "display_data"
    }
   ],
   "source": [
    "# visualize the percentage each coding language makes up for the top 10words of each programing language\n",
    "plt.figure(figsize=(20,14))\n",
    "(top10.assign(p_python = top10.python/top10['all'], \n",
    "                   p_javascript = top10.javascript/top10['all'])\n",
    " .sort_values(by='all')[['p_python', 'p_javascript']]\n",
    " .tail(20)\n",
    " .sort_values(by='p_python')\n",
    " .plot.barh(stacked=True, figsize=(12,8))\n",
    ")\n",
    "\n",
    "plt.title(\"Proportions of the Top 10 Words from Each Language\")\n",
    "plt.xticks(fontsize=14)\n",
    "plt.yticks(fontsize=14)\n",
    "plt.legend(bbox_to_anchor=(1.35, 1),borderaxespad=0)\n",
    "plt.show()"
   ]
  },
  {
   "cell_type": "markdown",
   "metadata": {},
   "source": [
    "# Hypothesis Testing\n",
    "We'll now perform several hypothesis tests to confirm if the presence of certain words within a README are correlated with its respective language."
   ]
  },
  {
   "cell_type": "markdown",
   "metadata": {},
   "source": [
    "## Creating column reflecting if README contains word from top 5 JavaScript words "
   ]
  },
  {
   "cell_type": "code",
   "execution_count": 16,
   "metadata": {
    "scrolled": true
   },
   "outputs": [
    {
     "data": {
      "text/plain": [
       "['native', 'react', 'javascript', '&#9;', 'app']"
      ]
     },
     "execution_count": 16,
     "metadata": {},
     "output_type": "execute_result"
    }
   ],
   "source": [
    "# creating list of top 5 most common words in JavaScript readmes\n",
    "top_5_js_words = word_counts['javascript'].sort_values(ascending=False).head(5).index.tolist()\n",
    "\n",
    "top_5_js_words"
   ]
  },
  {
   "cell_type": "code",
   "execution_count": 17,
   "metadata": {
    "scrolled": true
   },
   "outputs": [
    {
     "data": {
      "text/html": [
       "<div>\n",
       "<style scoped>\n",
       "    .dataframe tbody tr th:only-of-type {\n",
       "        vertical-align: middle;\n",
       "    }\n",
       "\n",
       "    .dataframe tbody tr th {\n",
       "        vertical-align: top;\n",
       "    }\n",
       "\n",
       "    .dataframe thead th {\n",
       "        text-align: right;\n",
       "    }\n",
       "</style>\n",
       "<table border=\"1\" class=\"dataframe\">\n",
       "  <thead>\n",
       "    <tr style=\"text-align: right;\">\n",
       "      <th></th>\n",
       "      <th>language</th>\n",
       "      <th>readme</th>\n",
       "      <th>has_top_5_js_word</th>\n",
       "    </tr>\n",
       "  </thead>\n",
       "  <tbody>\n",
       "    <tr>\n",
       "      <th>74</th>\n",
       "      <td>javascript</td>\n",
       "      <td>leaflet leading opensource javascript library ...</td>\n",
       "      <td>True</td>\n",
       "    </tr>\n",
       "    <tr>\n",
       "      <th>193</th>\n",
       "      <td>python</td>\n",
       "      <td>stylegan official tensorflow implementation pi...</td>\n",
       "      <td>True</td>\n",
       "    </tr>\n",
       "    <tr>\n",
       "      <th>210</th>\n",
       "      <td>python</td>\n",
       "      <td>beet beet medium library management system obs...</td>\n",
       "      <td>False</td>\n",
       "    </tr>\n",
       "    <tr>\n",
       "      <th>152</th>\n",
       "      <td>python</td>\n",
       "      <td>ai learning github page httpsailearningapachec...</td>\n",
       "      <td>False</td>\n",
       "    </tr>\n",
       "    <tr>\n",
       "      <th>73</th>\n",
       "      <td>javascript</td>\n",
       "      <td>clipboardjs modern copy clipboard no flash 3kb...</td>\n",
       "      <td>True</td>\n",
       "    </tr>\n",
       "  </tbody>\n",
       "</table>\n",
       "</div>"
      ],
      "text/plain": [
       "       language                                             readme  \\\n",
       "74   javascript  leaflet leading opensource javascript library ...   \n",
       "193      python  stylegan official tensorflow implementation pi...   \n",
       "210      python  beet beet medium library management system obs...   \n",
       "152      python  ai learning github page httpsailearningapachec...   \n",
       "73   javascript  clipboardjs modern copy clipboard no flash 3kb...   \n",
       "\n",
       "     has_top_5_js_word  \n",
       "74                True  \n",
       "193               True  \n",
       "210              False  \n",
       "152              False  \n",
       "73                True  "
      ]
     },
     "execution_count": 17,
     "metadata": {},
     "output_type": "execute_result"
    }
   ],
   "source": [
    "# adding column that holds true if a readme contains a \"top 5 most common JS word\"\n",
    "# and false otherwise\n",
    "contains = [train['readme'].str.contains(w) for w in top_5_js_words]\n",
    "\n",
    "t5_js_index = train[np.any(contains, axis = 0)].index.tolist()\n",
    "\n",
    "train['has_top_5_js_word'] = train.index.isin(t5_js_index)\n",
    "\n",
    "train.head()"
   ]
  },
  {
   "cell_type": "markdown",
   "metadata": {},
   "source": [
    "## Creating column reflecting if README contains word from top 5 Python words "
   ]
  },
  {
   "cell_type": "code",
   "execution_count": 18,
   "metadata": {},
   "outputs": [
    {
     "data": {
      "text/plain": [
       "['yes', 'unknown', 'no', 'github', 'use']"
      ]
     },
     "execution_count": 18,
     "metadata": {},
     "output_type": "execute_result"
    }
   ],
   "source": [
    "# creating list of top 5 most common words in Python readmes\n",
    "top_5_py_words = word_counts['python'].sort_values(ascending=False).head(5).index.tolist()\n",
    "\n",
    "top_5_py_words"
   ]
  },
  {
   "cell_type": "code",
   "execution_count": 19,
   "metadata": {
    "scrolled": true
   },
   "outputs": [
    {
     "data": {
      "text/html": [
       "<div>\n",
       "<style scoped>\n",
       "    .dataframe tbody tr th:only-of-type {\n",
       "        vertical-align: middle;\n",
       "    }\n",
       "\n",
       "    .dataframe tbody tr th {\n",
       "        vertical-align: top;\n",
       "    }\n",
       "\n",
       "    .dataframe thead th {\n",
       "        text-align: right;\n",
       "    }\n",
       "</style>\n",
       "<table border=\"1\" class=\"dataframe\">\n",
       "  <thead>\n",
       "    <tr style=\"text-align: right;\">\n",
       "      <th></th>\n",
       "      <th>language</th>\n",
       "      <th>readme</th>\n",
       "      <th>has_top_5_js_word</th>\n",
       "      <th>has_top_5_py_word</th>\n",
       "    </tr>\n",
       "  </thead>\n",
       "  <tbody>\n",
       "    <tr>\n",
       "      <th>74</th>\n",
       "      <td>javascript</td>\n",
       "      <td>leaflet leading opensource javascript library ...</td>\n",
       "      <td>True</td>\n",
       "      <td>True</td>\n",
       "    </tr>\n",
       "    <tr>\n",
       "      <th>193</th>\n",
       "      <td>python</td>\n",
       "      <td>stylegan official tensorflow implementation pi...</td>\n",
       "      <td>True</td>\n",
       "      <td>True</td>\n",
       "    </tr>\n",
       "    <tr>\n",
       "      <th>210</th>\n",
       "      <td>python</td>\n",
       "      <td>beet beet medium library management system obs...</td>\n",
       "      <td>False</td>\n",
       "      <td>False</td>\n",
       "    </tr>\n",
       "    <tr>\n",
       "      <th>152</th>\n",
       "      <td>python</td>\n",
       "      <td>ai learning github page httpsailearningapachec...</td>\n",
       "      <td>False</td>\n",
       "      <td>False</td>\n",
       "    </tr>\n",
       "    <tr>\n",
       "      <th>73</th>\n",
       "      <td>javascript</td>\n",
       "      <td>clipboardjs modern copy clipboard no flash 3kb...</td>\n",
       "      <td>True</td>\n",
       "      <td>True</td>\n",
       "    </tr>\n",
       "  </tbody>\n",
       "</table>\n",
       "</div>"
      ],
      "text/plain": [
       "       language                                             readme  \\\n",
       "74   javascript  leaflet leading opensource javascript library ...   \n",
       "193      python  stylegan official tensorflow implementation pi...   \n",
       "210      python  beet beet medium library management system obs...   \n",
       "152      python  ai learning github page httpsailearningapachec...   \n",
       "73   javascript  clipboardjs modern copy clipboard no flash 3kb...   \n",
       "\n",
       "     has_top_5_js_word  has_top_5_py_word  \n",
       "74                True               True  \n",
       "193               True               True  \n",
       "210              False              False  \n",
       "152              False              False  \n",
       "73                True               True  "
      ]
     },
     "execution_count": 19,
     "metadata": {},
     "output_type": "execute_result"
    }
   ],
   "source": [
    "# adding column that holds true if a readme contains a \"top 5 most common python word\"\n",
    "# and false otherwise\n",
    "contains = [train['readme'].str.contains(w) for w in top_5_py_words]\n",
    "\n",
    "t5_py_index = train[np.any(contains, axis = 0)].index.tolist()\n",
    "\n",
    "train['has_top_5_py_word'] = train.index.isin(t5_js_index)\n",
    "\n",
    "train.head()"
   ]
  },
  {
   "cell_type": "markdown",
   "metadata": {},
   "source": [
    "### has_react and has_apikey categorical features\n",
    "In addition to looking at the top 5 words from each coding language, we will create has_react and has_apikey features. \n",
    "\n",
    "These two words were choosen because the word \"react\" was only found to be in JavaScript labled readmes while the text \"apikey\" was only found in python labled readmes and both were in the top of most seen words for each language respectively."
   ]
  },
  {
   "cell_type": "code",
   "execution_count": 20,
   "metadata": {},
   "outputs": [
    {
     "data": {
      "text/html": [
       "<div>\n",
       "<style scoped>\n",
       "    .dataframe tbody tr th:only-of-type {\n",
       "        vertical-align: middle;\n",
       "    }\n",
       "\n",
       "    .dataframe tbody tr th {\n",
       "        vertical-align: top;\n",
       "    }\n",
       "\n",
       "    .dataframe thead th {\n",
       "        text-align: right;\n",
       "    }\n",
       "</style>\n",
       "<table border=\"1\" class=\"dataframe\">\n",
       "  <thead>\n",
       "    <tr style=\"text-align: right;\">\n",
       "      <th></th>\n",
       "      <th>language</th>\n",
       "      <th>readme</th>\n",
       "      <th>has_top_5_js_word</th>\n",
       "      <th>has_top_5_py_word</th>\n",
       "      <th>has_react</th>\n",
       "      <th>has_apikey</th>\n",
       "    </tr>\n",
       "  </thead>\n",
       "  <tbody>\n",
       "    <tr>\n",
       "      <th>74</th>\n",
       "      <td>javascript</td>\n",
       "      <td>leaflet leading opensource javascript library ...</td>\n",
       "      <td>True</td>\n",
       "      <td>True</td>\n",
       "      <td>False</td>\n",
       "      <td>False</td>\n",
       "    </tr>\n",
       "    <tr>\n",
       "      <th>193</th>\n",
       "      <td>python</td>\n",
       "      <td>stylegan official tensorflow implementation pi...</td>\n",
       "      <td>True</td>\n",
       "      <td>True</td>\n",
       "      <td>False</td>\n",
       "      <td>False</td>\n",
       "    </tr>\n",
       "    <tr>\n",
       "      <th>210</th>\n",
       "      <td>python</td>\n",
       "      <td>beet beet medium library management system obs...</td>\n",
       "      <td>False</td>\n",
       "      <td>False</td>\n",
       "      <td>False</td>\n",
       "      <td>False</td>\n",
       "    </tr>\n",
       "    <tr>\n",
       "      <th>152</th>\n",
       "      <td>python</td>\n",
       "      <td>ai learning github page httpsailearningapachec...</td>\n",
       "      <td>False</td>\n",
       "      <td>False</td>\n",
       "      <td>False</td>\n",
       "      <td>False</td>\n",
       "    </tr>\n",
       "    <tr>\n",
       "      <th>73</th>\n",
       "      <td>javascript</td>\n",
       "      <td>clipboardjs modern copy clipboard no flash 3kb...</td>\n",
       "      <td>True</td>\n",
       "      <td>True</td>\n",
       "      <td>False</td>\n",
       "      <td>False</td>\n",
       "    </tr>\n",
       "  </tbody>\n",
       "</table>\n",
       "</div>"
      ],
      "text/plain": [
       "       language                                             readme  \\\n",
       "74   javascript  leaflet leading opensource javascript library ...   \n",
       "193      python  stylegan official tensorflow implementation pi...   \n",
       "210      python  beet beet medium library management system obs...   \n",
       "152      python  ai learning github page httpsailearningapachec...   \n",
       "73   javascript  clipboardjs modern copy clipboard no flash 3kb...   \n",
       "\n",
       "     has_top_5_js_word  has_top_5_py_word  has_react  has_apikey  \n",
       "74                True               True      False       False  \n",
       "193               True               True      False       False  \n",
       "210              False              False      False       False  \n",
       "152              False              False      False       False  \n",
       "73                True               True      False       False  "
      ]
     },
     "execution_count": 20,
     "metadata": {},
     "output_type": "execute_result"
    }
   ],
   "source": [
    "# adding has_react and has_react columns that hold true if a readme contains \"react\" and false otherwise\n",
    "train['has_react'] = train.readme.str.contains('react')\n",
    "\n",
    "# adding has_react and has_apikey columns that hold true if a readme contains \"react\" and false otherwise\n",
    "train['has_apikey'] = train.readme.str.contains('apikey')\n",
    "\n",
    "train.head()"
   ]
  },
  {
   "cell_type": "markdown",
   "metadata": {},
   "source": [
    "## Hypothsis Testing\n",
    "\n",
    "Now that we've created 4 features based on our visual observations we should test and see if these observations are statisitically signficant before adding them to our models. \n",
    "\n",
    "As we are comparing two catagorical variable we will need to conduct a Chi-Squared test for each of our created features against _language_. From the testing below, we see that has_react does have a statisitically significant realtionship with language. "
   ]
  },
  {
   "cell_type": "markdown",
   "metadata": {},
   "source": [
    "### Test 1"
   ]
  },
  {
   "cell_type": "markdown",
   "metadata": {},
   "source": [
    "H0: The presence of a \"top 5 most common JavaScript\" word and a repo's programming language are indepedent<br>\n",
    "Ha: The presence of a \"top 5 most common JavaScript\" word and a repo's programming language are depedent"
   ]
  },
  {
   "cell_type": "code",
   "execution_count": 21,
   "metadata": {
    "scrolled": true
   },
   "outputs": [
    {
     "name": "stdout",
     "output_type": "stream",
     "text": [
      "alpha = .05\n",
      "\n",
      "has_top_5_js_word values\n",
      "chi2: 3.427463745335704, p: 0.06412050161183944\n",
      "\n"
     ]
    }
   ],
   "source": [
    "# Conduct a Chi Squared test against has_top_5_js_word\n",
    "observed = pd.crosstab(train.language, train.has_top_5_js_word)\n",
    "\n",
    "chi2, p, degf, expected = stats.chi2_contingency(observed)\n",
    "print('alpha = .05\\n')\n",
    "print(f'has_top_5_js_word values\\nchi2: {chi2}, p: {p}\\n')"
   ]
  },
  {
   "cell_type": "markdown",
   "metadata": {},
   "source": [
    "### Test 2"
   ]
  },
  {
   "cell_type": "markdown",
   "metadata": {},
   "source": [
    "H0: The presence of a \"top 5 most common Python\" word and a repo's programming language are indepedent<br>\n",
    "Ha: The presence of a \"top 5 most common Python\" word and a repo's programming language are depedent"
   ]
  },
  {
   "cell_type": "code",
   "execution_count": 22,
   "metadata": {},
   "outputs": [
    {
     "name": "stdout",
     "output_type": "stream",
     "text": [
      "alpha = .05\n",
      "\n",
      "has_top_5_py_word values \n",
      "chi2: 3.427463745335704, p: 0.06412050161183944\n",
      "\n"
     ]
    }
   ],
   "source": [
    "# Conduct a Chi Squared test against has_top_5_js_word\n",
    "observed = pd.crosstab(train.language, train.has_top_5_py_word)\n",
    "\n",
    "chi2, p, degf, expected = stats.chi2_contingency(observed)\n",
    "print('alpha = .05\\n')\n",
    "print(f'has_top_5_py_word values \\nchi2: {chi2}, p: {p}\\n')"
   ]
  },
  {
   "cell_type": "markdown",
   "metadata": {},
   "source": [
    "### Test 3"
   ]
  },
  {
   "cell_type": "markdown",
   "metadata": {},
   "source": [
    "H0: The presence of the text, \"react\", in a readme, and a repo's programming language are indepedent<br>\n",
    "Ha: The presence of the text, \"react\", in a readme, and a repo's programming language are depedent"
   ]
  },
  {
   "cell_type": "code",
   "execution_count": 23,
   "metadata": {},
   "outputs": [
    {
     "name": "stdout",
     "output_type": "stream",
     "text": [
      "alpha = .05\n",
      "\n",
      "has_react values \n",
      "chi2: 13.718507650335773, p: 0.00021235153324672268 \n",
      "\n"
     ]
    }
   ],
   "source": [
    "# Conduct a Chi Squared test against has_react\n",
    "observed = pd.crosstab(train.language, train.has_react)\n",
    "\n",
    "chi2, p, degf, expected = stats.chi2_contingency(observed)\n",
    "print('alpha = .05\\n')\n",
    "print(f'has_react values \\nchi2: {chi2}, p: {p} \\n')"
   ]
  },
  {
   "cell_type": "markdown",
   "metadata": {},
   "source": [
    "### Test 4"
   ]
  },
  {
   "cell_type": "markdown",
   "metadata": {},
   "source": [
    "H0: The presence of the text, \"apikey\", in a readme, and a repo's programming language are indepedent<br>\n",
    "Ha: The presence of the text, \"apikey\", in a readme, and a repo's programming language are depedent"
   ]
  },
  {
   "cell_type": "code",
   "execution_count": 24,
   "metadata": {},
   "outputs": [
    {
     "name": "stdout",
     "output_type": "stream",
     "text": [
      "alpha = .05\n",
      "\n",
      "has_apikey values\n",
      "chi2: 0.008028367776502116, p: 0.928604162999248\n"
     ]
    }
   ],
   "source": [
    "# Conduct a Chi Squared test against has_apikey\n",
    "observed = pd.crosstab(train.language, train.has_apikey)\n",
    "\n",
    "chi2, p, degf, expected = stats.chi2_contingency(observed)\n",
    "print('alpha = .05\\n')\n",
    "print(f'has_apikey values\\nchi2: {chi2}, p: {p}')"
   ]
  },
  {
   "cell_type": "markdown",
   "metadata": {},
   "source": [
    "## Analysis of Hypothesis Test Results\n",
    "\n",
    "- Hypothesis tests 1, 2, and 4 produced p values that are above their alpha (.05), so we do no reject their respective null hypothesis'. \n",
    "<br>\n",
    "- Hypothesis test 3, which tested if the presence of the text, \"has_react\", in a readme, was dependent on the language of the readme, produced a p-value far below its alpha (.05.\n",
    "    - We will use a feature that indicates whether \"has_react\" is contained within a readme as a modeling feature since it is stastically significant"
   ]
  },
  {
   "cell_type": "markdown",
   "metadata": {},
   "source": [
    "# Modeling\n",
    "[Table of Contents](#Table-of-Contents)\n",
    "\n",
    "We'll now create various models that will make predictions about the most prominent programming language found in a repository based on the text within it's README file.\n",
    "\n",
    "We will use accuracy as our evaluation metric. The reason we're using accuracy is because we're primarily focused on how well our model can predict a repo's language and we're weighing our predictions between JavaScript and Python equally."
   ]
  },
  {
   "cell_type": "markdown",
   "metadata": {},
   "source": [
    "## Train"
   ]
  },
  {
   "cell_type": "markdown",
   "metadata": {},
   "source": [
    "### Baseline Model - Train\n",
    "- Always predicts Javascript since that is the most common language"
   ]
  },
  {
   "cell_type": "code",
   "execution_count": 40,
   "metadata": {
    "scrolled": true
   },
   "outputs": [
    {
     "data": {
      "text/plain": [
       "javascript    72\n",
       "python        65\n",
       "Name: language, dtype: int64"
      ]
     },
     "execution_count": 40,
     "metadata": {},
     "output_type": "execute_result"
    }
   ],
   "source": [
    "# checking which language is most prominent\n",
    "train.language.value_counts()"
   ]
  },
  {
   "cell_type": "code",
   "execution_count": 41,
   "metadata": {
    "scrolled": true
   },
   "outputs": [
    {
     "name": "stdout",
     "output_type": "stream",
     "text": [
      "              precision    recall  f1-score   support\n",
      "\n",
      "  javascript       0.53      1.00      0.69        72\n",
      "      python       0.00      0.00      0.00        65\n",
      "\n",
      "    accuracy                           0.53       137\n",
      "   macro avg       0.26      0.50      0.34       137\n",
      "weighted avg       0.28      0.53      0.36       137\n",
      "\n"
     ]
    }
   ],
   "source": [
    "# setting baseline prediction to always be javascript\n",
    "train['baseline_prediction'] = 'javascript'\n",
    "\n",
    "# printing performance metrics\n",
    "print(classification_report(train.language, train.baseline_prediction))"
   ]
  },
  {
   "cell_type": "markdown",
   "metadata": {},
   "source": [
    "### \"Has_react\" Model - Train\n",
    "- Logistic regression algorithim\n",
    "- Predicts language based on whether or not the text \"react\" is within the readme\n"
   ]
  },
  {
   "cell_type": "code",
   "execution_count": 42,
   "metadata": {},
   "outputs": [],
   "source": [
    "# converting True/False to 1 and 0 in has_react column\n",
    "train['has_react'] = np.where((train.has_react == True), 1, 0)\n",
    "\n",
    "# setting target variable\n",
    "y_train = train['language']\n",
    "\n",
    "# setting feature for model\n",
    "X_train_hasreact = train[['has_react']]"
   ]
  },
  {
   "cell_type": "code",
   "execution_count": 43,
   "metadata": {},
   "outputs": [
    {
     "name": "stdout",
     "output_type": "stream",
     "text": [
      "              precision    recall  f1-score   support\n",
      "\n",
      "  javascript       0.88      0.31      0.45        72\n",
      "      python       0.55      0.95      0.70        65\n",
      "\n",
      "    accuracy                           0.61       137\n",
      "   macro avg       0.72      0.63      0.58       137\n",
      "weighted avg       0.73      0.61      0.57       137\n",
      "\n"
     ]
    }
   ],
   "source": [
    "# creating logistic regression object\n",
    "lr_hasreact = LogisticRegression(random_state=123)\n",
    "\n",
    "# fitting model to data\n",
    "lr_hasreact.fit(X_train_hasreact, y_train)\n",
    "\n",
    "# creating column with model predictions\n",
    "train['hasreact_prediction'] = lr_hasreact.predict(X_train_hasreact)\n",
    "\n",
    "# printing performance metrics\n",
    "print(classification_report(train.language, train.hasreact_prediction))"
   ]
  },
  {
   "cell_type": "markdown",
   "metadata": {},
   "source": [
    "### Bag of Words Model - Train\n",
    "- Logistic regression model\n",
    "- Uses Bag-of-Words as sole feature\n",
    "    - predicts language by counting how many times a word appears in each README"
   ]
  },
  {
   "cell_type": "code",
   "execution_count": 44,
   "metadata": {},
   "outputs": [
    {
     "name": "stdout",
     "output_type": "stream",
     "text": [
      "              precision    recall  f1-score   support\n",
      "\n",
      "  javascript       1.00      1.00      1.00        72\n",
      "      python       1.00      1.00      1.00        65\n",
      "\n",
      "    accuracy                           1.00       137\n",
      "   macro avg       1.00      1.00      1.00       137\n",
      "weighted avg       1.00      1.00      1.00       137\n",
      "\n"
     ]
    }
   ],
   "source": [
    "# creating vectorizer\n",
    "vectorizer = CountVectorizer(stop_words='english', \n",
    "                             min_df=20, \n",
    "                             ngram_range=(1,2), \n",
    "                             binary=True)\n",
    "\n",
    "# Learn vocabulary in sentences. \n",
    "vectorizer.fit(train.readme)\n",
    "\n",
    "# Get dictionary. \n",
    "vectorizer.get_feature_names()\n",
    "\n",
    "# Transform each sentences in vector space.\n",
    "bow = vectorizer.transform(train.readme)\n",
    "\n",
    "X_bow = bow\n",
    "\n",
    "# creating logistic regression object\n",
    "lr_bag = LogisticRegression(random_state=123)\n",
    "\n",
    "# fitting model to data\n",
    "lr_bag = lr_bag.fit(X_bow, y_train)\n",
    "\n",
    "train['bag_prediction'] = lr_bag.predict(X_bow)\n",
    "\n",
    "print(classification_report(train.language, train.bag_prediction))"
   ]
  },
  {
   "cell_type": "markdown",
   "metadata": {},
   "source": [
    "### TFIDF Model - Train\n",
    "- Logistic regression model\n",
    "- Uses TIFDF as sole feature\n",
    "    - Weighs term frequency (TF), how often a term appears in a README and inverse document frequency (IDF), how important a term is, to predict programming language"
   ]
  },
  {
   "cell_type": "code",
   "execution_count": 45,
   "metadata": {},
   "outputs": [
    {
     "name": "stdout",
     "output_type": "stream",
     "text": [
      "              precision    recall  f1-score   support\n",
      "\n",
      "  javascript       0.99      0.97      0.98        72\n",
      "      python       0.97      0.98      0.98        65\n",
      "\n",
      "    accuracy                           0.98       137\n",
      "   macro avg       0.98      0.98      0.98       137\n",
      "weighted avg       0.98      0.98      0.98       137\n",
      "\n"
     ]
    }
   ],
   "source": [
    "# creating tfid vectorizer\n",
    "tfidf = TfidfVectorizer(stop_words='english', min_df = 20,\n",
    "                             ngram_range=(1,2), \n",
    "                             binary=True)\n",
    "\n",
    "# fitting and transforming readme data \n",
    "tfidf_sparse_matrix = tfidf.fit_transform(train.readme)\n",
    "\n",
    "# get vocabulary\n",
    "tfidf.vocabulary_\n",
    "\n",
    "# Transform to document-term matrix\n",
    "vector_spaces = tfidf.transform(train.readme)\n",
    "\n",
    "X_tfidf = tfidf_sparse_matrix\n",
    "\n",
    "# creating logistic regression object\n",
    "lr_tfidf = LogisticRegression(random_state=123)\n",
    "\n",
    "# fitting data model to data\n",
    "lr_tfidf = lr_tfidf.fit(X_tfidf, y_train)\n",
    "\n",
    "train['tfidf_prediction'] = lr_tfidf.predict(X_tfidf)\n",
    "\n",
    "print(classification_report(train.language, train.tfidf_prediction))"
   ]
  },
  {
   "cell_type": "markdown",
   "metadata": {},
   "source": [
    "## TRAIN MODELS EVALUATION\n",
    "\n",
    "We'll use accuracy as our evaluation metric since we're focused on how well our models can predict a repo's language and we're weighing our predictions between JavaScript and Python equally.\n",
    "\n",
    "- Baseline model performed with an accuracy score .53\n",
    "- has_react model performed with an accuracy score of .61\n",
    "- Bag of words performed with an accuracy score of 1\n",
    "- TFIDF model performed with an accuracy score of .98\n",
    "\n",
    "Bag of Words and TFIDF model had the highest accuracy scores, 1.0 and .98, respectively, so we're going to use them with our validate samples."
   ]
  },
  {
   "cell_type": "markdown",
   "metadata": {},
   "source": [
    "## Validate"
   ]
  },
  {
   "cell_type": "markdown",
   "metadata": {},
   "source": [
    "### Bag of Words Model - Validate"
   ]
  },
  {
   "cell_type": "code",
   "execution_count": 37,
   "metadata": {},
   "outputs": [
    {
     "name": "stdout",
     "output_type": "stream",
     "text": [
      "              precision    recall  f1-score   support\n",
      "\n",
      "  javascript       0.83      0.79      0.81        24\n",
      "      python       0.78      0.82      0.80        22\n",
      "\n",
      "    accuracy                           0.80        46\n",
      "   macro avg       0.80      0.80      0.80        46\n",
      "weighted avg       0.81      0.80      0.80        46\n",
      "\n"
     ]
    }
   ],
   "source": [
    "# Transform each sentence in vector space.\n",
    "v_bow = vectorizer.transform(validate.readme)\n",
    "\n",
    "# adding prediction column\n",
    "validate['bag_prediction'] = lr_bag.predict(v_bow)\n",
    "\n",
    "# printing evaluation metrics\n",
    "print(classification_report(validate.language, validate.bag_prediction))"
   ]
  },
  {
   "cell_type": "markdown",
   "metadata": {},
   "source": [
    "### TFIDF Model - Validate"
   ]
  },
  {
   "cell_type": "code",
   "execution_count": 32,
   "metadata": {},
   "outputs": [
    {
     "name": "stdout",
     "output_type": "stream",
     "text": [
      "              precision    recall  f1-score   support\n",
      "\n",
      "  javascript       0.81      0.92      0.86        24\n",
      "      python       0.89      0.77      0.83        22\n",
      "\n",
      "    accuracy                           0.85        46\n",
      "   macro avg       0.85      0.84      0.85        46\n",
      "weighted avg       0.85      0.85      0.85        46\n",
      "\n"
     ]
    }
   ],
   "source": [
    "# transforming readme data\n",
    "tfidf_sparse_matrix = tfidf.transform(validate.readme)\n",
    "\n",
    "# Transform to document-term matrix\n",
    "vector_spaces = tfidf.transform(validate.readme)\n",
    "\n",
    "X_tfidf = tfidf_sparse_matrix\n",
    "\n",
    "# adding prediction column\n",
    "validate['tfidf_prediction'] = lr_tfidf.predict(X_tfidf)\n",
    "\n",
    "# printing evaluation metrics\n",
    "print(classification_report(validate.language, validate.tfidf_prediction))"
   ]
  },
  {
   "cell_type": "markdown",
   "metadata": {},
   "source": [
    "## VALIDATE MODELS EVALUATION\n",
    "\n",
    "As before, we're ranking our models' performance based on their accuracy scores.\n",
    "\n",
    "- Bag of words performed with an accuracy score of .80\n",
    "- TFIDF model performed with an accuracy score of .85\n",
    "\n",
    "Since TFIDF scored higher, we're going to use it on our test data set."
   ]
  },
  {
   "cell_type": "markdown",
   "metadata": {},
   "source": [
    "## Test"
   ]
  },
  {
   "cell_type": "markdown",
   "metadata": {},
   "source": [
    "### TFIDF Model - Test"
   ]
  },
  {
   "cell_type": "code",
   "execution_count": 33,
   "metadata": {},
   "outputs": [
    {
     "name": "stdout",
     "output_type": "stream",
     "text": [
      "              precision    recall  f1-score   support\n",
      "\n",
      "  javascript       0.80      1.00      0.89        24\n",
      "      python       1.00      0.73      0.84        22\n",
      "\n",
      "    accuracy                           0.87        46\n",
      "   macro avg       0.90      0.86      0.87        46\n",
      "weighted avg       0.90      0.87      0.87        46\n",
      "\n"
     ]
    }
   ],
   "source": [
    "# transforming data\n",
    "tfidf_sparse_matrix = tfidf.transform(test.readme)\n",
    "\n",
    "# Transform to document-term matrix\n",
    "vector_spaces = tfidf.transform(test.readme)\n",
    "\n",
    "X_tfidf = tfidf_sparse_matrix\n",
    "\n",
    "# adding prediction column\n",
    "test['tfidf_prediction'] = lr_tfidf.predict(X_tfidf)\n",
    "\n",
    "# printing evaluation metrics\n",
    "print(classification_report(test.language, test.tfidf_prediction))"
   ]
  },
  {
   "cell_type": "markdown",
   "metadata": {},
   "source": [
    "## TEST MODEL EVALUATION\n",
    "\n",
    "- TFIDF model produced an accuracy score of .87 while predicted programming languages in our test sample.\n",
    "\n",
    "In light of it's high accuracy scores throughout each modeling phase, TFIDF has proven to be a reliable model on both in-sample (train) and out-of-sample (validate, test) data."
   ]
  },
  {
   "cell_type": "markdown",
   "metadata": {},
   "source": [
    "# Conclusion\n",
    "\n",
    "[Table of Contents](#Table-of-Contents)"
   ]
  },
  {
   "cell_type": "code",
   "execution_count": null,
   "metadata": {},
   "outputs": [],
   "source": []
  }
 ],
 "metadata": {
  "kernelspec": {
   "display_name": "Python 3",
   "language": "python",
   "name": "python3"
  },
  "language_info": {
   "codemirror_mode": {
    "name": "ipython",
    "version": 3
   },
   "file_extension": ".py",
   "mimetype": "text/x-python",
   "name": "python",
   "nbconvert_exporter": "python",
   "pygments_lexer": "ipython3",
   "version": "3.7.6"
  }
 },
 "nbformat": 4,
 "nbformat_minor": 4
}
